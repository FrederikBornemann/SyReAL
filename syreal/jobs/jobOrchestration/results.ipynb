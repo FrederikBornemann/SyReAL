{
 "cells": [
  {
   "attachments": {},
   "cell_type": "markdown",
   "metadata": {},
   "source": [
    "# Summary of results"
   ]
  },
  {
   "attachments": {},
   "cell_type": "markdown",
   "metadata": {},
   "source": [
    "#### Importing libraries\n"
   ]
  },
  {
   "cell_type": "code",
   "execution_count": 3,
   "metadata": {},
   "outputs": [],
   "source": [
    "import pandas as pd\n",
    "import numpy as np\n",
    "import matplotlib.pyplot as plt\n",
    "import seaborn as sns\n",
    "import os\n",
    "from pathlib import Path\n",
    "import json\n",
    "\n",
    "from constants import *"
   ]
  },
  {
   "attachments": {},
   "cell_type": "markdown",
   "metadata": {},
   "source": [
    "#### Importing data"
   ]
  },
  {
   "cell_type": "code",
   "execution_count": 4,
   "metadata": {},
   "outputs": [],
   "source": [
    "with open(TEMP_DIR / \"eq_algo_summary.json\") as json_file:\n",
    "    data = json.load(json_file)"
   ]
  },
  {
   "cell_type": "code",
   "execution_count": 13,
   "metadata": {},
   "outputs": [
    {
     "name": "stdout",
     "output_type": "stream",
     "text": [
      "II.11.17, loss-std, 14.541666666666666, 96, 1.228606031961717\n",
      "II.11.17, true-confusion, 11.081632653061224, 98, 1.6122154506274802\n",
      "II.11.17, combinatory, 22.367346938775512, 98, 0.7987527278200015\n",
      "II.11.17, std, 15.375, 96, 1.1620149191182634\n",
      "II.11.17, random, 17.8659793814433, 97, 1.0\n",
      "II.11.17, complexity-std, 15.282828282828282, 99, 1.169023105593448\n",
      "\n",
      "I.24.6, loss-std, 39.5, 4, 2.0359760159893403\n",
      "I.24.6, true-confusion, 129.85555555555555, 90, 0.6193116057878074\n",
      "I.24.6, combinatory, 116.24489795918367, 98, 0.6918243642814902\n",
      "I.24.6, std, 122.25510204081633, 98, 0.657813467815269\n",
      "I.24.6, random, 80.42105263157895, 19, 1.0\n",
      "I.24.6, complexity-std, 18.125, 8, 4.437023593466424\n",
      "\n",
      "II.11.20, random, 17.912280701754387, 57, 1.0\n",
      "II.11.20, std, 14.176470588235293, 68, 1.263521875227488\n",
      "II.11.20, complexity-std, 18.871794871794872, 39, 0.9491561784897026\n",
      "II.11.20, loss-std, 14.346938775510203, 98, 1.2485088967083429\n",
      "II.11.20, combinatory, 14.614583333333334, 96, 1.2256442960573208\n",
      "II.11.20, true-confusion, 11.68131868131868, 91, 1.5334125530194256\n",
      "\n",
      "III.13.18, random, 15.573770491803279, 61, 1.0\n",
      "III.13.18, std, 10.8, 100, 1.4420157862780814\n",
      "III.13.18, complexity-std, 11.714285714285714, 98, 1.3294682127149142\n",
      "III.13.18, loss-std, 11.112244897959183, 98, 1.401496334432251\n",
      "III.13.18, combinatory, 11.25, 100, 1.384335154826958\n",
      "III.13.18, true-confusion, 10.63265306122449, 98, 1.4647116201504042\n",
      "\n",
      "I.13.4, random, 83.10526315789474, 95, 1.0\n",
      "I.13.4, std, 32.56122448979592, 98, 2.5522769631694406\n",
      "I.13.4, complexity-std, 26.0, 38, 3.1963562753036436\n",
      "I.13.4, loss-std, 27.872340425531913, 47, 2.981639212535155\n",
      "I.13.4, combinatory, 34.717171717171716, 99, 2.3937797650950188\n",
      "I.13.4, true-confusion, 23.73469387755102, 98, 3.501425532877766\n",
      "\n",
      "\n",
      "[('II.11.17', 'loss-std', 96, 1.228606031961717), ('II.11.17', 'true-confusion', 98, 1.6122154506274802), ('II.11.17', 'combinatory', 98, 0.7987527278200015), ('II.11.17', 'std', 96, 1.1620149191182634), ('II.11.17', 'random', 97, 1.0), ('II.11.17', 'complexity-std', 99, 1.169023105593448), ('I.24.6', 'loss-std', 4, 2.0359760159893403), ('I.24.6', 'true-confusion', 90, 0.6193116057878074), ('I.24.6', 'combinatory', 98, 0.6918243642814902), ('I.24.6', 'std', 98, 0.657813467815269), ('I.24.6', 'random', 19, 1.0), ('I.24.6', 'complexity-std', 8, 4.437023593466424), ('II.11.20', 'random', 57, 1.0), ('II.11.20', 'std', 68, 1.263521875227488), ('II.11.20', 'complexity-std', 39, 0.9491561784897026), ('II.11.20', 'loss-std', 98, 1.2485088967083429), ('II.11.20', 'combinatory', 96, 1.2256442960573208), ('II.11.20', 'true-confusion', 91, 1.5334125530194256), ('III.13.18', 'random', 61, 1.0), ('III.13.18', 'std', 100, 1.4420157862780814), ('III.13.18', 'complexity-std', 98, 1.3294682127149142), ('III.13.18', 'loss-std', 98, 1.401496334432251), ('III.13.18', 'combinatory', 100, 1.384335154826958), ('III.13.18', 'true-confusion', 98, 1.4647116201504042), ('I.13.4', 'random', 95, 1.0), ('I.13.4', 'std', 98, 2.5522769631694406), ('I.13.4', 'complexity-std', 38, 3.1963562753036436), ('I.13.4', 'loss-std', 47, 2.981639212535155), ('I.13.4', 'combinatory', 99, 2.3937797650950188), ('I.13.4', 'true-confusion', 98, 3.501425532877766)]\n"
     ]
    }
   ],
   "source": [
    "efficiencies = []\n",
    "for eq in data:\n",
    "    eq_name = eq.split(\" \")[1]\n",
    "    for algo in data[eq]:\n",
    "        try:\n",
    "            random_steps = data[eq][\"random\"][\"average_last_n\"]\n",
    "        except:\n",
    "            continue\n",
    "        num = data[eq][algo][\"finished\"]\n",
    "        efficiency = random_steps/data[eq][algo][\"average_last_n\"]\n",
    "        efficiencies.append((eq_name,algo,num,efficiency))\n",
    "        print(f'{eq_name}, {algo}, {data[eq][algo][\"average_last_n\"]}, {num}, {efficiency}')\n",
    "\n",
    "    print()\n",
    "\n",
    "print(efficiencies)"
   ]
  },
  {
   "cell_type": "code",
   "execution_count": 22,
   "metadata": {},
   "outputs": [
    {
     "name": "stdout",
     "output_type": "stream",
     "text": [
      "II.11.17: 4/5\n",
      "I.24.6: 1.0/5\n",
      "II.11.20: 4/5\n",
      "III.13.18: 5/5\n",
      "I.13.4: 4.5/5\n",
      "I.6.2b: 0/3\n"
     ]
    }
   ],
   "source": [
    "# count how many effiecienies are greater than 1 for each equation. The num is the number of samples. Fewer samples means less confidence in the result. Take that into account when interpreting the results.\n",
    "for eq in data:\n",
    "    eq_name = eq.split(\" \")[1]\n",
    "    count = 0\n",
    "    for algo in data[eq]:\n",
    "        if algo == \"random\":\n",
    "            continue\n",
    "        try:\n",
    "            random_steps = data[eq][\"random\"][\"average_last_n\"]\n",
    "        except:\n",
    "            continue\n",
    "        num = data[eq][algo][\"finished\"]\n",
    "        efficiency = random_steps/data[eq][algo][\"average_last_n\"]\n",
    "        if efficiency > 1:\n",
    "            if num > 40:\n",
    "                count += 1\n",
    "            else:\n",
    "                count += 0.5\n",
    "    print(f'{eq_name}: {count}/{len(data[eq])-1}')"
   ]
  },
  {
   "cell_type": "code",
   "execution_count": null,
   "metadata": {},
   "outputs": [],
   "source": []
  },
  {
   "attachments": {},
   "cell_type": "markdown",
   "metadata": {},
   "source": [
    "#### Table of results"
   ]
  },
  {
   "cell_type": "code",
   "execution_count": 36,
   "metadata": {},
   "outputs": [
    {
     "name": "stdout",
     "output_type": "stream",
     "text": [
      "                algorithm samples  average steps         std  efficiency  \\\n",
      "equation                                                                   \n",
      "II.11.17         loss-std      96      14.541667    4.225030    1.228606   \n",
      "II.11.17   true-confusion      98      11.081633    5.954594    1.612215   \n",
      "II.11.17      combinatory      98      22.367347   11.457126    0.798753   \n",
      "II.11.17              std      96      15.375000    3.753595    1.162015   \n",
      "II.11.17           random      97      17.865979    7.197553    1.000000   \n",
      "II.11.17   complexity-std      99      15.282828    4.373017    1.169023   \n",
      "I.24.6           loss-std       4      39.500000   29.916551    2.035976   \n",
      "I.24.6     true-confusion      90     129.855556  114.578815    0.619312   \n",
      "I.24.6        combinatory      98     116.244898  109.294274    0.691824   \n",
      "I.24.6                std      98     122.255102  111.272611    0.657813   \n",
      "I.24.6             random      19      80.421053   46.798998    1.000000   \n",
      "I.24.6     complexity-std       8      18.125000    4.793969    4.437024   \n",
      "II.11.20           random      57      17.912281    5.788784    1.000000   \n",
      "II.11.20              std      68      14.176471    3.349944    1.263522   \n",
      "II.11.20   complexity-std      39      18.871795   12.839453    0.949156   \n",
      "II.11.20         loss-std      98      14.346939    3.315388    1.248509   \n",
      "II.11.20      combinatory      96      14.614583    3.041363    1.225644   \n",
      "II.11.20   true-confusion      91      11.681319    2.205443    1.533413   \n",
      "III.13.18          random      61      15.573770    7.940317    1.000000   \n",
      "III.13.18             std     100      10.800000    2.870962    1.442016   \n",
      "III.13.18  complexity-std      98      11.714286    4.437423    1.329468   \n",
      "III.13.18        loss-std      98      11.112245    3.475637    1.401496   \n",
      "III.13.18     combinatory     100      11.250000    3.970535    1.384335   \n",
      "III.13.18  true-confusion      98      10.632653    3.888624    1.464712   \n",
      "I.13.4             random      95      83.105263   51.649694    1.000000   \n",
      "I.13.4                std      98      32.561224   16.723997    2.552277   \n",
      "I.13.4     complexity-std      38      26.000000   13.184758    3.196356   \n",
      "I.13.4           loss-std      47      27.872340   16.171119    2.981639   \n",
      "I.13.4        combinatory      99      34.717172   19.920270    2.393780   \n",
      "I.13.4     true-confusion      98      23.734694   10.429489    3.501426   \n",
      "\n",
      "           efficiency_std  \n",
      "equation                   \n",
      "II.11.17         0.610255  \n",
      "II.11.17         1.082747  \n",
      "II.11.17         0.520523  \n",
      "II.11.17         0.547384  \n",
      "II.11.17         0.569735  \n",
      "II.11.17         0.577662  \n",
      "I.24.6           1.944610  \n",
      "I.24.6           0.654595  \n",
      "I.24.6           0.764967  \n",
      "I.24.6           0.710634  \n",
      "I.24.6           0.822966  \n",
      "I.24.6           2.836205  \n",
      "II.11.20         0.457037  \n",
      "II.11.20         0.505852  \n",
      "II.11.20         0.714910  \n",
      "II.11.20         0.496025  \n",
      "II.11.20         0.471115  \n",
      "II.11.20         0.573929  \n",
      "III.13.18        0.721040  \n",
      "III.13.18        0.829146  \n",
      "III.13.18        0.844439  \n",
      "III.13.18        0.838298  \n",
      "III.13.18        0.858414  \n",
      "III.13.18        0.919045  \n",
      "I.13.4           0.878930  \n",
      "I.13.4           2.057808  \n",
      "I.13.4           2.563899  \n",
      "I.13.4           2.535049  \n",
      "I.13.4           2.024819  \n",
      "I.13.4           2.665108  \n"
     ]
    }
   ],
   "source": [
    "# make a table where each row is an equation and each column is an algorithm. The value is the number of average steps for that algorithm for that equation. Add the efficiency in brackets. Also add the number of samples in brackets and the standard deviation in brackets.\n",
    "\n",
    "# make this a pandas dataframe. Export it to pdf.\n",
    "\n",
    "df = pd.DataFrame(columns=[\"equation\", \"algorithm\", \"samples\", \"average steps\", \"std\", \"efficiency\", \"efficiency_std\"])\n",
    "for eq in data:\n",
    "    eq_name = eq.split(\" \")[1]\n",
    "    for algo in data[eq]:\n",
    "        try:\n",
    "            random_steps = data[eq][\"random\"][\"average_last_n\"]\n",
    "            random_std = np.std(data[eq][\"random\"][\"last_n\"], ddof=1)\n",
    "        except:\n",
    "            continue\n",
    "        num = data[eq][algo][\"finished\"]\n",
    "        efficiency = random_steps/data[eq][algo][\"average_last_n\"]\n",
    "        std = np.std(data[eq][algo][\"last_n\"], ddof=1)\n",
    "        efficiency_std = np.sqrt((random_std/data[eq][algo][\"average_last_n\"])**2 + ((random_steps/(data[eq][algo][\"average_last_n\"])**2)*std)**2)\n",
    "        df = pd.concat([df, pd.DataFrame({\"equation\": [eq_name], \"algorithm\": [algo], \"samples\": [num], \"average steps\": [data[eq][algo][\"average_last_n\"]], \"std\": [std], \"efficiency\": [efficiency], \"efficiency_std\": [efficiency_std]})], ignore_index=True)\n",
    "    # make equation the index\n",
    "df = df.set_index(\"equation\")\n",
    "    \n",
    "#df = df.sort_values(by=[\"equation\", \"algorithm\"])\n",
    "#df = df.reset_index(drop=True)\n",
    "print(df)\n",
    "\n",
    "# save the dataframe to a csv file\n",
    "df.to_csv(TEMP_DIR / \"eq_algo_summary.csv\", index=True)"
   ]
  },
  {
   "attachments": {},
   "cell_type": "markdown",
   "metadata": {},
   "source": [
    "## Feynman info"
   ]
  },
  {
   "cell_type": "code",
   "execution_count": 2,
   "metadata": {},
   "outputs": [
    {
     "name": "stdout",
     "output_type": "stream",
     "text": [
      "found: 42, not found: 25, instant: 33, failed: 5\n"
     ]
    }
   ],
   "source": [
    "# import feynman_info.json\n",
    "import json\n",
    "with open(\"feynman_info.json\") as json_file:\n",
    "    data = json.load(json_file)\n",
    "\n",
    "# count how many equations where found, how many not, and how many were instandly found\n",
    "found = 0\n",
    "not_found = 0\n",
    "instant = 0\n",
    "failed = 0\n",
    "for eq in data:\n",
    "    if data[eq][\"failed\"]:\n",
    "        failed += 1\n",
    "    if data[eq][\"found\"]:\n",
    "        if data[eq][\"found_instantly\"]:\n",
    "            instant += 1\n",
    "        else:\n",
    "            found += 1\n",
    "    else:\n",
    "        not_found += 1\n",
    "    \n",
    "print(f\"found: {found}, not found: {not_found}, instant: {instant}, failed: {failed}\")"
   ]
  },
  {
   "attachments": {},
   "cell_type": "markdown",
   "metadata": {},
   "source": []
  },
  {
   "cell_type": "markdown",
   "metadata": {},
   "source": []
  }
 ],
 "metadata": {
  "kernelspec": {
   "display_name": "MyPySR_3.10",
   "language": "python",
   "name": "mypysr_3.10"
  },
  "language_info": {
   "codemirror_mode": {
    "name": "ipython",
    "version": 3
   },
   "file_extension": ".py",
   "mimetype": "text/x-python",
   "name": "python",
   "nbconvert_exporter": "python",
   "pygments_lexer": "ipython3",
   "version": "3.10.6"
  },
  "orig_nbformat": 4
 },
 "nbformat": 4,
 "nbformat_minor": 2
}
