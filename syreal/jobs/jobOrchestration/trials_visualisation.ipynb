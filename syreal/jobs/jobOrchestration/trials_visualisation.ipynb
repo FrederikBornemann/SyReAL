{
 "cells": [
  {
   "attachments": {},
   "cell_type": "markdown",
   "metadata": {},
   "source": [
    "# Visualisation of the trials"
   ]
  },
  {
   "attachments": {},
   "cell_type": "markdown",
   "metadata": {},
   "source": [
    "## Imports"
   ]
  },
  {
   "cell_type": "code",
   "execution_count": 19,
   "metadata": {},
   "outputs": [],
   "source": [
    "import pandas as pd\n",
    "import numpy as np\n",
    "import matplotlib.pyplot as plt\n",
    "from matplotlib.backends.backend_pdf import PdfPages\n",
    "import seaborn as sns\n",
    "import json\n",
    "\n",
    "from new_analysis import eq_algo_summary, get_job_status\n",
    "from constants import TEMP_DIR, ALGORITHMS"
   ]
  },
  {
   "attachments": {},
   "cell_type": "markdown",
   "metadata": {},
   "source": [
    "## Read the data"
   ]
  },
  {
   "cell_type": "code",
   "execution_count": 21,
   "metadata": {},
   "outputs": [
    {
     "name": "stdout",
     "output_type": "stream",
     "text": [
      "Function get_status_of_jobs took 45.55878924578428 seconds to execute.\n"
     ]
    },
    {
     "name": "stderr",
     "output_type": "stream",
     "text": [
      " 49%|████▉     | 12114/24711 [00:19<00:20, 615.23iteration/s]\n"
     ]
    },
    {
     "name": "stdout",
     "output_type": "stream",
     "text": [
      "Found 12114 finished jobs\n",
      "Found 0 failed jobs\n",
      "[]\n"
     ]
    }
   ],
   "source": [
    "###### Read the data ######\n",
    "read_from_file = False # set to False to generate a new summary\n",
    "\n",
    "\n",
    "if read_from_file:\n",
    "    with open(TEMP_DIR / \"eq_algo_summary.json\", \"r\") as f:\n",
    "        summary_dict = json.load(f)\n",
    "else:\n",
    "    get_job_status(state=\"finished\", new_status=True)\n",
    "    summary_dict = eq_algo_summary()\n",
    "\n",
    "# create a dataframe from the summary dictionary\n",
    "eq_names = [s.split(\" \")[1] for s in summary_dict.keys()]\n",
    "summary_df = pd.DataFrame(columns=ALGORITHMS, index=eq_names)\n",
    "summary_df.index.name = \"Equation\"\n",
    "\n",
    "for eq in summary_dict:\n",
    "    for algo in summary_dict[eq]:\n",
    "        summary_df.loc[eq.split(\" \")[1], algo] = np.array(summary_dict[eq][algo][\"last_n\"])\n"
   ]
  },
  {
   "attachments": {},
   "cell_type": "markdown",
   "metadata": {},
   "source": [
    "## Visualise the data"
   ]
  },
  {
   "cell_type": "code",
   "execution_count": 23,
   "metadata": {},
   "outputs": [
    {
     "name": "stdout",
     "output_type": "stream",
     "text": [
      "Could not plot III.19.51\n",
      "Plots saved in \"plots.pdf\"\n"
     ]
    },
    {
     "data": {
      "image/png": "[encoded data removed]",
      "text/plain": [
       "<Figure size 1080x360 with 2 Axes>"
      ]
     },
     "metadata": {
      "needs_background": "light"
     },
     "output_type": "display_data"
    }
   ],
   "source": [
    "# Plot histogram with KDE for each equation and algorithm on the left, and a boxplot on the right\n",
    "with PdfPages(TEMP_DIR / 'plots.pdf') as pdf:\n",
    "    for equation in summary_df.index:\n",
    "\n",
    "        fig, ax = plt.subplots(1, 2, figsize=(15, 5))\n",
    "        try:\n",
    "            for column in summary_df.columns:\n",
    "                sns.histplot(summary_df.loc[equation, column], kde=True, ax=ax[0], label=column)\n",
    "            # plot the boxplot with the algorithm names on the x-axis\n",
    "            sns.boxplot(data=summary_df.loc[equation], ax=ax[1])\n",
    "        except:\n",
    "            print(f\"Could not plot {equation}\")\n",
    "            continue\n",
    "        # add x-ticks to the boxplot\n",
    "        ax[1].set_xticklabels(ALGORITHMS, rotation=45, horizontalalignment='right')\n",
    "\n",
    "        ax[0].set_title(f\"{equation} - Histogram with KDE\")\n",
    "        ax[1].set_title(f\"{equation} - Boxplot\")\n",
    "        ax[0].set_xlabel(\"Number of steps\")\n",
    "        ax[1].set_xlabel(\"Algorithm\")\n",
    "        # only show the legend for the first, third, fifth, etc. handle\n",
    "        handles, labels = ax[0].get_legend_handles_labels()\n",
    "        ax[0].legend(handles[::2], labels[::2])\n",
    "        #ax.legend()\n",
    "        pdf.savefig(fig)\n",
    "        plt.close(fig)\n",
    "print('Plots saved in \"plots.pdf\"')"
   ]
  },
  {
   "cell_type": "code",
   "execution_count": null,
   "metadata": {},
   "outputs": [],
   "source": []
  }
 ],
 "metadata": {
  "kernelspec": {
   "display_name": "MyPySR_3.10",
   "language": "python",
   "name": "mypysr_3.10"
  },
  "language_info": {
   "codemirror_mode": {
    "name": "ipython",
    "version": 3
   },
   "file_extension": ".py",
   "mimetype": "text/x-python",
   "name": "python",
   "nbconvert_exporter": "python",
   "pygments_lexer": "ipython3",
   "version": "3.10.6"
  },
  "orig_nbformat": 4
 },
 "nbformat": 4,
 "nbformat_minor": 2
}
