{
 "cells": [
  {
   "attachments": {},
   "cell_type": "markdown",
   "metadata": {},
   "source": [
    "# Visualisation of the trials"
   ]
  },
  {
   "attachments": {},
   "cell_type": "markdown",
   "metadata": {},
   "source": [
    "## Imports"
   ]
  },
  {
   "cell_type": "code",
   "execution_count": null,
   "metadata": {},
   "outputs": [
    {
     "ename": "",
     "evalue": "",
     "output_type": "error",
     "traceback": [
      "\u001b[1;31mFailed to start the Kernel. \n",
      "\u001b[1;31mThe Jupyter notebook server failed to launch in time. \n",
      "\u001b[1;31mView Jupyter <a href='command:jupyter.viewOutput'>log</a> for further details."
     ]
    }
   ],
   "source": [
    "import pandas as pd\n",
    "import numpy as np\n",
    "import matplotlib.pyplot as plt\n",
    "import matplotlib\n",
    "from matplotlib.backends.backend_pdf import PdfPages\n",
    "import seaborn as sns\n",
    "import json\n",
    "from sympy import sympify, latex\n",
    "\n",
    "from new_analysis import eq_algo_summary, get_job_status\n",
    "from constants import TEMP_DIR, ALGORITHMS"
   ]
  },
  {
   "cell_type": "code",
   "execution_count": null,
   "metadata": {},
   "outputs": [
    {
     "ename": "",
     "evalue": "",
     "output_type": "error",
     "traceback": [
      "\u001b[1;31mFailed to start the Kernel. \n",
      "\u001b[1;31mThe Jupyter notebook server failed to launch in time\n",
      "\u001b[1;31m/beegfs/desy/user/bornemaf/conda/envs/PySR/lib/python3.10/site-packages/traitlets/traitlets.py:2548: FutureWarning: Supporting extra quotes around strings is deprecated in traitlets 5.0. You can use '/beegfs/desy/user/bornemaf/data/SyReAL/syreal/jobs/jobOrchestration' instead of '\"/beegfs/desy/user/bornemaf/data/SyReAL/syreal/jobs/jobOrchestration\"' if you require traitlets >=5.\n",
      "\u001b[1;31m  warn(\n",
      "\u001b[1;31m\n",
      "\u001b[1;31m[I 13:52:46.484 NotebookApp] The port 8888 is already in use, trying another port.\n",
      "\u001b[1;31m\n",
      "\u001b[1;31m[I 13:52:46.484 NotebookApp] The port 8889 is already in use, trying another port.\n",
      "\u001b[1;31m\n",
      "\u001b[1;31m[I 13:52:46.563 NotebookApp] Serving notebooks from local directory: /beegfs/desy/user/bornemaf/data/SyReAL/syreal/jobs/jobOrchestration\n",
      "\u001b[1;31m\n",
      "\u001b[1;31m[I 13:52:46.563 NotebookApp] Jupyter Notebook 6.5.4 is running at:\n",
      "\u001b[1;31m[I 13:52:46.563 NotebookApp] http://localhost:8890/?token=6d03f61377bad8abbddab09f151e9253c6fcc2082e26f226\n",
      "\u001b[1;31m[I 13:52:46.563 NotebookApp]  or http://127.0.0.1:8890/?token=6d03f61377bad8abbddab09f151e9253c6fcc2082e26f226\n",
      "\u001b[1;31m[I 13:52:46.563 NotebookApp] Use Control-C to stop this server and shut down all kernels (twice to skip confirmation).\n",
      "\u001b[1;31m\n",
      "\u001b[1;31m[C 13:52:46.659 NotebookApp] \n",
      "\u001b[1;31m    \n",
      "\u001b[1;31m    To access the notebook, open this file in a browser:\n",
      "\u001b[1;31m        file:///home/bornemaf/.local/share/jupyter/runtime/nbserver-58599-open.html\n",
      "\u001b[1;31m    Or copy and paste one of these URLs:\n",
      "\u001b[1;31m        http://localhost:8890/?token=6d03f61377bad8abbddab09f151e9253c6fcc2082e26f226\n",
      "\u001b[1;31m     or http://127.0.0.1:8890/?token=6d03f61377bad8abbddab09f151e9253c6fcc2082e26f226. \n",
      "\u001b[1;31mView Jupyter <a href='command:jupyter.viewOutput'>log</a> for further details."
     ]
    }
   ],
   "source": [
    "#import scienceplots\n",
    "#plt.style.use(['science', 'notebook'])\n",
    "plt.rcParams['axes.linewidth'] = 2\n",
    "plt.rc('xtick',labelsize=12)\n",
    "plt.rc('ytick',labelsize=12)\n",
    "plt.rc('axes',labelsize=12)\n",
    "plt.rc('legend',fontsize=12)"
   ]
  },
  {
   "attachments": {},
   "cell_type": "markdown",
   "metadata": {},
   "source": [
    "## Read the data"
   ]
  },
  {
   "cell_type": "code",
   "execution_count": null,
   "metadata": {},
   "outputs": [
    {
     "ename": "",
     "evalue": "",
     "output_type": "error",
     "traceback": [
      "\u001b[1;31mFailed to start the Kernel. \n",
      "\u001b[1;31mThe Jupyter notebook server failed to launch in time\n",
      "\u001b[1;31m/beegfs/desy/user/bornemaf/conda/envs/PySR/lib/python3.10/site-packages/traitlets/traitlets.py:2548: FutureWarning: Supporting extra quotes around strings is deprecated in traitlets 5.0. You can use '/beegfs/desy/user/bornemaf/data/SyReAL/syreal/jobs/jobOrchestration' instead of '\"/beegfs/desy/user/bornemaf/data/SyReAL/syreal/jobs/jobOrchestration\"' if you require traitlets >=5.\n",
      "\u001b[1;31m  warn(\n",
      "\u001b[1;31m\n",
      "\u001b[1;31m[I 13:52:46.484 NotebookApp] The port 8888 is already in use, trying another port.\n",
      "\u001b[1;31m\n",
      "\u001b[1;31m[I 13:52:46.484 NotebookApp] The port 8889 is already in use, trying another port.\n",
      "\u001b[1;31m\n",
      "\u001b[1;31m[I 13:52:46.563 NotebookApp] Serving notebooks from local directory: /beegfs/desy/user/bornemaf/data/SyReAL/syreal/jobs/jobOrchestration\n",
      "\u001b[1;31m\n",
      "\u001b[1;31m[I 13:52:46.563 NotebookApp] Jupyter Notebook 6.5.4 is running at:\n",
      "\u001b[1;31m[I 13:52:46.563 NotebookApp] http://localhost:8890/?token=6d03f61377bad8abbddab09f151e9253c6fcc2082e26f226\n",
      "\u001b[1;31m[I 13:52:46.563 NotebookApp]  or http://127.0.0.1:8890/?token=6d03f61377bad8abbddab09f151e9253c6fcc2082e26f226\n",
      "\u001b[1;31m[I 13:52:46.563 NotebookApp] Use Control-C to stop this server and shut down all kernels (twice to skip confirmation).\n",
      "\u001b[1;31m\n",
      "\u001b[1;31m[C 13:52:46.659 NotebookApp] \n",
      "\u001b[1;31m    \n",
      "\u001b[1;31m    To access the notebook, open this file in a browser:\n",
      "\u001b[1;31m        file:///home/bornemaf/.local/share/jupyter/runtime/nbserver-58599-open.html\n",
      "\u001b[1;31m    Or copy and paste one of these URLs:\n",
      "\u001b[1;31m        http://localhost:8890/?token=6d03f61377bad8abbddab09f151e9253c6fcc2082e26f226\n",
      "\u001b[1;31m     or http://127.0.0.1:8890/?token=6d03f61377bad8abbddab09f151e9253c6fcc2082e26f226. \n",
      "\u001b[1;31mView Jupyter <a href='command:jupyter.viewOutput'>log</a> for further details."
     ]
    }
   ],
   "source": [
    "###### Read the data ######\n",
    "read_from_file = True # set to False to generate a new summary\n",
    "\n",
    "\n",
    "if read_from_file:\n",
    "    with open(TEMP_DIR / \"eq_algo_summary.json\", \"r\") as f:\n",
    "        summary_dict = json.load(f)\n",
    "else:\n",
    "    get_job_status(state=\"finished\", new_status=True)\n",
    "    summary_dict = eq_algo_summary()\n",
    "\n",
    "# create a dataframe from the summary dictionary\n",
    "eq_names = [s.split(\" \")[1] for s in summary_dict.keys()]\n",
    "summary_df = pd.DataFrame(columns=ALGORITHMS, index=eq_names)\n",
    "summary_df.index.name = \"Equation\"\n",
    "\n",
    "for eq in summary_dict:\n",
    "    for algo in summary_dict[eq]:\n",
    "        last_n = np.array(summary_dict[eq][algo][\"last_n\"], dtype=float)\n",
    "        # replace  499 with nan\n",
    "        last_n[last_n == 499] = np.nan\n",
    "        summary_df.loc[eq.split(\" \")[1], algo] = last_n\n",
    "\n",
    "# Read the CSV file into a dictionary\n",
    "equations_dict = pd.read_csv('feynman.csv', index_col='Filename')['Formula'].to_dict()\n",
    "# Add the equations to the dataframe\n",
    "summary_df['formula'] = summary_df.index.map(equations_dict)"
   ]
  },
  {
   "attachments": {},
   "cell_type": "markdown",
   "metadata": {},
   "source": [
    "## Visualise the data"
   ]
  },
  {
   "cell_type": "code",
   "execution_count": 56,
   "metadata": {},
   "outputs": [
    {
     "data": {
      "image/png": "[encoded data removed]",
      "text/plain": [
       "<Figure size 864x432 with 2 Axes>"
      ]
     },
     "metadata": {
      "needs_background": "light"
     },
     "output_type": "display_data"
    },
    {
     "name": "stdout",
     "output_type": "stream",
     "text": [
      "Plots saved in \"plots.pdf\"\n"
     ]
    }
   ],
   "source": [
    "# Set to True to save the plots as a pdf\n",
    "save_as_pdf = False\n",
    "\n",
    "# Define the number of bins\n",
    "num_bins = 10\n",
    "offset = 10\n",
    "\n",
    "# copy the dataframe\n",
    "summary_df_copy = summary_df.copy()\n",
    "# add a column with the equation latex formulas from the feynman.csv file. use sympy to convert the string to latex\n",
    "# load the feynman.csv file\n",
    "\n",
    "\n",
    "\n",
    "def plot_hist_and_boxplot(pdf=None, log_scale=False):\n",
    "    \"\"\"Plot histogram with KDE for each equation and algorithm on the left, and a boxplot on the right\"\"\"\n",
    "\n",
    "    for j, equation in enumerate(summary_df.index):\n",
    "        # DEBUG\n",
    "        if j > 8:\n",
    "            break\n",
    "        if j < 8:\n",
    "            continue\n",
    "\n",
    "        # Find the bin edges with the highest count\n",
    "        max_bin_edges = None\n",
    "        max_bin_count = 0\n",
    "\n",
    "        _min = 500\n",
    "        _max = 0\n",
    "\n",
    "        for column in summary_df.columns[:-1]: # skip the last column, which is the formula\n",
    "            # # account for log scale\n",
    "            # bin_edges = np.histogram_bin_edges(summary_df.loc[equation, column])\n",
    "            # print(bin_edges, len(bin_edges))\n",
    "            # bin_counts = np.histogram(summary_df.loc[equation, column], bins=bin_edges)[0]\n",
    "            # # Find the bin edges with the highest count\n",
    "            # max_count = np.max(bin_counts)\n",
    "            # print(max_count)\n",
    "            # if max_count > max_bin_count:\n",
    "            #     max_bin_count = max_count\n",
    "            #     max_bin_edges = bin_edges\n",
    "            # find min and max of the data\n",
    "            _min = min(_min, np.nanmin(summary_df.loc[equation, column]))\n",
    "            _max = max(_max, np.nanmax(summary_df.loc[equation, column]))\n",
    "        \n",
    "        # create bin edges with log scale\n",
    "        if log_scale:\n",
    "            bin_edges = np.logspace(np.log10(_min), np.log10(_max), num_bins+1, dtype=int)\n",
    "        else:\n",
    "            bin_edges = np.linspace(_min, _max, num_bins+1, dtype=int)\n",
    "        \n",
    "            \n",
    "        fig, ax = plt.subplots(1, 2, figsize=(12, 6))\n",
    "        palette = sns.color_palette(\"tab10\", len(ALGORITHMS))\n",
    "        try:\n",
    "            for i, column in enumerate(summary_df.columns[:-1]):\n",
    "                # Use `bins` parameter to set the number of bins\n",
    "                sns.histplot(summary_df.loc[equation, column], log_scale=False, bins=bin_edges, ax=ax[0], label=column, fill=(column==\"random\"), linewidth=3, element=\"step\", color=palette[i], alpha=(0.3 if column==\"random\" else 1))\n",
    "            # Plot the boxplot with the algorithm names on the x-axis\n",
    "            sns.boxplot(data=summary_df.loc[equation].iloc[:-1], orient=\"h\", ax=ax[1], showfliers=True, linewidth=2, palette=palette)\n",
    "            # add a line for the mean of the random algorithm\n",
    "            # get color of the random algorithm (seaborn)\n",
    "            random_color = sns.color_palette()[0]\n",
    "            ax[1].axvline(np.nanmedian(summary_df.loc[equation, 'random']), color=random_color, linestyle='--', linewidth=2, alpha=0.5)\n",
    "            # add a background color to the random algorithm\n",
    "            ax[1].axhspan(-0.5, 0.5, facecolor=random_color, alpha=0.2)\n",
    "            \n",
    "            \n",
    "        except Exception as e:\n",
    "            print(f\"Could not plot {equation}\")\n",
    "            print(e)\n",
    "            continue\n",
    "        # Add x-ticks to the boxplot\n",
    "        ax[1].set_yticklabels(ALGORITHMS, rotation=45, horizontalalignment='right')\n",
    "\n",
    "        #ax[0].set_title(\"Histogram\")\n",
    "        #ax[1].set_title(\"Boxplot\")\n",
    "        ax[0].set_xlabel(\"Number of steps\")\n",
    "        ax[0].set_ylabel(\"Trials per bin\")\n",
    "        ax[1].set_xlabel(\"Number of steps\")\n",
    "\n",
    "        #change the x-axis of the ax[0] to semilog\n",
    "        if log_scale:\n",
    "            ax[0].set_xscale('log')\n",
    "            ax[1].set_xscale('log')\n",
    "            # replace the x-ticks with the bin edges\n",
    "            # make minor ticks between the bin edges\n",
    "            minor_bin_edges = np.linspace(_min, _max, num_bins*10+1, dtype=int)\n",
    "            ax[0].set_xticks(minor_bin_edges, minor=True)\n",
    "            ax[0].set_xticklabels([], minor=True)\n",
    "            ax[1].set_xticks(minor_bin_edges, minor=True)\n",
    "            ax[1].set_xticklabels([], minor=True)\n",
    "            \n",
    "            \n",
    "            ax[0].set_xticks(bin_edges, minor=False)\n",
    "            ax[0].set_xticklabels(bin_edges, minor=False)\n",
    "            ax[1].set_xticks(bin_edges, minor=False)\n",
    "            ax[1].set_xticklabels(bin_edges, minor=False)\n",
    "\n",
    "\n",
    "        # add a table to the plot with the number of nan values for each algorithm\n",
    "        # create a table with the number of nan values for each algorithm\n",
    "        nan_table = pd.DataFrame(index=ALGORITHMS, columns=[\"Not found\"])#\n",
    "        for column in summary_df.columns[:-1]:\n",
    "            # in percentage\n",
    "            nan_table.loc[column, \"Not found\"] = str(int(np.sum(np.isnan(summary_df.loc[equation, column])) / len(summary_df.loc[equation, column]) * 100)) + \"%\"\n",
    "\n",
    "    \n",
    "        # create the table\n",
    "        table = ax[1].table(cellText=nan_table.values, loc='right', bbox=[1.0, 0.0, 0.15, 1.0], cellLoc='center')\n",
    "        # set the font size of the table\n",
    "        table.set_fontsize(12)\n",
    "        # add text above the table\n",
    "        ax[1].text(1.075, 1.02, \"Not found\", fontsize=12, transform=ax[1].transAxes, ha='center', va='bottom')\n",
    "        \n",
    "        fig.suptitle(equation+\":    \"+latex(sympify(summary_df.loc[equation, 'formula']), mul_symbol=\"dot\", mode=\"inline\", fold_frac_powers=True, parenthesize_super=True), fontsize=20, weight=\"bold\", ha=\"left\", x=0.05, y=0.98)\n",
    "        # add padding below the title\n",
    "        fig.tight_layout()\n",
    "        # make the legend below the plot\n",
    "        leg = ax[0].legend(loc='upper center', bbox_to_anchor=(1.05, 1.10), ncol=6, fancybox=True)\n",
    "        for line in leg.get_lines():\n",
    "            line.set_linewidth(10.0)\n",
    "        \n",
    "        if pdf:\n",
    "            pdf.savefig(fig)\n",
    "        else:\n",
    "            plt.show()\n",
    "        plt.close(fig)\n",
    "\n",
    "        \n",
    "\n",
    "    print('Plots saved in \"plots.pdf\"')\n",
    "\n",
    "\n",
    "if save_as_pdf:\n",
    "    with PdfPages(TEMP_DIR / 'plots.pdf') as pdf:\n",
    "        plot_hist_and_boxplot(pdf=pdf, log_scale=True)\n",
    "else:\n",
    "    plot_hist_and_boxplot(log_scale=True)"
   ]
  },
  {
   "cell_type": "code",
   "execution_count": null,
   "metadata": {},
   "outputs": [],
   "source": [
    "# ridge plot\n",
    "for equation in summary_df.index:\n",
    "    max_bin_edges = None\n",
    "    max_bin_count = 0\n",
    "    for column in summary_df.columns:\n",
    "        bin_edges = np.histogram_bin_edges(summary_df.loc[equation, column], bins=15)\n",
    "        bin_counts = np.histogram(summary_df.loc[equation, column], bins=bin_edges)[0]\n",
    "        # Find the bin edges with the highest count\n",
    "        max_count = np.max(bin_counts)\n",
    "        if max_count > max_bin_count:\n",
    "            max_bin_count = max_count\n",
    "            max_bin_edges = bin_edges\n",
    "    df = pd.DataFrame(columns=[\"Algorithm\", \"Steps\"])\n",
    "    for column in summary_df.columns:\n",
    "        df.loc[len(df)] = [column, summary_df.loc[equation, column].tolist()]\n",
    "    df = df.explode(\"Steps\")\n",
    "    palette = sns.color_palette(\"Set2\", len(ALGORITHMS))\n",
    "    g = sns.FacetGrid(df, row=\"Algorithm\", aspect=8, height=1.2, palette=palette, hue=\"Algorithm\")\n",
    "    g.map_dataframe(sns.histplot, x=\"Steps\", bins=max_bin_edges)\n",
    "    def label(x, color, label):\n",
    "        ax = plt.gca()\n",
    "        ax.text(0, .5, label, color='black', fontsize=13,\n",
    "                ha=\"left\", va=\"center\", transform=ax.transAxes)\n",
    "    g.map(label, \"Algorithm\")\n",
    "    g.set_titles(\"\")\n",
    "    g.set(yticks=[], xlabel=\"Number of steps\")\n",
    "    g.despine(left=True)\n",
    "    # remove y label\n",
    "    g.set(ylabel=\"\")\n",
    "    plt.suptitle('Steps to convergence for each algorithm', y=0.98)\n",
    "    plt.show()\n",
    "    break # DEBUG\n",
    "    "
   ]
  },
  {
   "attachments": {},
   "cell_type": "markdown",
   "metadata": {},
   "source": [
    "## Aggregated plot"
   ]
  },
  {
   "cell_type": "code",
   "execution_count": null,
   "metadata": {},
   "outputs": [
    {
     "ename": "",
     "evalue": "",
     "output_type": "error",
     "traceback": [
      "\u001b[1;31mFailed to start the Kernel. \n",
      "\u001b[1;31mThe Jupyter notebook server failed to launch in time\n",
      "\u001b[1;31m/beegfs/desy/user/bornemaf/conda/envs/PySR/lib/python3.10/site-packages/traitlets/traitlets.py:2548: FutureWarning: Supporting extra quotes around strings is deprecated in traitlets 5.0. You can use '/beegfs/desy/user/bornemaf/data/SyReAL/syreal/jobs/jobOrchestration' instead of '\"/beegfs/desy/user/bornemaf/data/SyReAL/syreal/jobs/jobOrchestration\"' if you require traitlets >=5.\n",
      "\u001b[1;31m  warn(\n",
      "\u001b[1;31m\n",
      "\u001b[1;31m[I 13:52:46.484 NotebookApp] The port 8888 is already in use, trying another port.\n",
      "\u001b[1;31m\n",
      "\u001b[1;31m[I 13:52:46.484 NotebookApp] The port 8889 is already in use, trying another port.\n",
      "\u001b[1;31m\n",
      "\u001b[1;31m[I 13:52:46.563 NotebookApp] Serving notebooks from local directory: /beegfs/desy/user/bornemaf/data/SyReAL/syreal/jobs/jobOrchestration\n",
      "\u001b[1;31m\n",
      "\u001b[1;31m[I 13:52:46.563 NotebookApp] Jupyter Notebook 6.5.4 is running at:\n",
      "\u001b[1;31m[I 13:52:46.563 NotebookApp] http://localhost:8890/?token=6d03f61377bad8abbddab09f151e9253c6fcc2082e26f226\n",
      "\u001b[1;31m[I 13:52:46.563 NotebookApp]  or http://127.0.0.1:8890/?token=6d03f61377bad8abbddab09f151e9253c6fcc2082e26f226\n",
      "\u001b[1;31m[I 13:52:46.563 NotebookApp] Use Control-C to stop this server and shut down all kernels (twice to skip confirmation).\n",
      "\u001b[1;31m\n",
      "\u001b[1;31m[C 13:52:46.659 NotebookApp] \n",
      "\u001b[1;31m    \n",
      "\u001b[1;31m    To access the notebook, open this file in a browser:\n",
      "\u001b[1;31m        file:///home/bornemaf/.local/share/jupyter/runtime/nbserver-58599-open.html\n",
      "\u001b[1;31m    Or copy and paste one of these URLs:\n",
      "\u001b[1;31m        http://localhost:8890/?token=6d03f61377bad8abbddab09f151e9253c6fcc2082e26f226\n",
      "\u001b[1;31m     or http://127.0.0.1:8890/?token=6d03f61377bad8abbddab09f151e9253c6fcc2082e26f226. \n",
      "\u001b[1;31mView Jupyter <a href='command:jupyter.viewOutput'>log</a> for further details."
     ]
    }
   ],
   "source": [
    "# plot all the equations in one boxplot.\n",
    "# create a dataframe with the median number of steps for each equation and algorithm\n",
    "# add to ALGORITHMS the column \"not_found\" which contains the number of nan values for each algorithm\n",
    "median_df = pd.DataFrame(index=summary_df.index, columns=ALGORITHMS.append([f\"{algorithm}_not_found\" for algorithm in ALGORITHMS]), dtype=float)\n",
    "for equation in summary_df.index:\n",
    "    for column in summary_df.columns[:-1]:\n",
    "        median_df.loc[equation, column] = np.nanmedian(summary_df.loc[equation, column])\n",
    "        # count the number of nan values\n",
    "        median_df.loc[equation, column+\"_not_found\"] = np.sum(np.isnan(summary_df.loc[equation, column]))\n",
    "\n",
    "# make a boxplot and histogram for each algorithm\n",
    "fig, ax = plt.subplots(1, 2, figsize=(12, 6))\n",
    "algorithms_df = median_df[[\"random\", \"combinatory\", \"std\", \"complexity-std\", \"loss-std\", \"true-confusion\"]]\n",
    "sns.boxplot(data=algorithms_df, ax=ax[0], palette=sns.color_palette(), linewidth=2, orient=\"h\", a)\n",
    "sns.histplot(data=algorithms_df, ax=ax[1], palette=sns.color_palette(), linewidth=2, element=\"step\", fill=False, bins=10, kde=True, common_norm=False)\n",
    "# title\n",
    "ax.set_title(\"Median number of steps for each algorithm\", fontsize=20, weight=\"bold\")\n",
    "\n"
   ]
  },
  {
   "cell_type": "code",
   "execution_count": null,
   "metadata": {},
   "outputs": [],
   "source": []
  }
 ],
 "metadata": {
  "kernelspec": {
   "display_name": "MyPySR_3.10",
   "language": "python",
   "name": "mypysr_3.10"
  },
  "language_info": {
   "codemirror_mode": {
    "name": "ipython",
    "version": 3
   },
   "file_extension": ".py",
   "mimetype": "text/x-python",
   "name": "python",
   "nbconvert_exporter": "python",
   "pygments_lexer": "ipython3",
   "version": "3.10.6"
  },
  "orig_nbformat": 4
 },
 "nbformat": 4,
 "nbformat_minor": 2
}
