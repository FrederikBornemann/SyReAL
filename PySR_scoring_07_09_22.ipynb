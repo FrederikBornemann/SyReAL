{
  "nbformat": 4,
  "nbformat_minor": 0,
  "metadata": {
    "colab": {
      "provenance": [],
      "authorship_tag": "ABX9TyPAJACpKhggqGrU8sNpzBOh",
      "include_colab_link": true
    },
    "kernelspec": {
      "name": "python3",
      "display_name": "Python 3"
    },
    "language_info": {
      "name": "python"
    }
  },
  "cells": [
    {
      "cell_type": "markdown",
      "metadata": {
        "id": "view-in-github",
        "colab_type": "text"
      },
      "source": [
        "<a href=\"https://colab.research.google.com/github/FrederikBornemann/SyReAL/blob/main/PySR_scoring_07_09_22.ipynb\" target=\"_parent\"><img src=\"https://colab.research.google.com/assets/colab-badge.svg\" alt=\"Open In Colab\"/></a>"
      ]
    },
    {
      "cell_type": "markdown",
      "metadata": {
        "id": "DS4E1PagbDgL"
      },
      "source": [
        "# Setup"
      ]
    },
    {
      "cell_type": "markdown",
      "metadata": {
        "id": "tQ1r1bbb0yBv"
      },
      "source": [
        "\n",
        "## Instructions\n",
        "1. Work on a copy of this notebook: _File_ > _Save a copy in Drive_ (you will need a Google account).\n",
        "2. (Optional) If you would like to do the deep learning component of this tutorial, turn on the GPU with Edit->Notebook settings->Hardware accelerator->GPU\n",
        "3. Execute the following cell (click on it and press Ctrl+Enter) to install Julia, IJulia and other packages (if needed, update `JULIA_VERSION` and the other parameters). This takes a couple of minutes.\n",
        "4. Continue to the next section.\n",
        "\n",
        "_Notes_:\n",
        "* If your Colab Runtime gets reset (e.g., due to inactivity), repeat steps 3, 4.\n",
        "* After installation, if you want to change the Julia version or activate/deactivate the GPU, you will need to reset the Runtime: _Runtime_ > _Delete and disconnect runtime_ and repeat steps 2-4."
      ]
    },
    {
      "cell_type": "markdown",
      "metadata": {
        "id": "COndi88gbDgO"
      },
      "source": [
        "**Run the following code to install Julia**"
      ]
    },
    {
      "cell_type": "code",
      "execution_count": 2,
      "metadata": {
        "colab": {
          "base_uri": "https://localhost:8080/",
          "height": 1000
        },
        "id": "GIeFXS0F0zww",
        "outputId": "ae8df01d-294f-4959-a115-d1e5012c0870"
      },
      "outputs": [
        {
          "output_type": "stream",
          "name": "stdout",
          "text": [
            "Installing Julia 1.7.2 on the current Colab Runtime...\n",
            "https://storage.googleapis.com/julialang2/bin/linux/x64/1.7/julia-1.7.2-linux-x86_64.tar.gz:\n",
            "2022-09-09 16:58:44 ERROR 403: Forbidden.\n",
            "tar: This does not look like a tar archive\n",
            "\n",
            "gzip: stdin: unexpected end of file\n",
            "tar: Child returned status 1\n",
            "tar: Error is not recoverable: exiting now\n",
            "Installing Julia package PyCall...\n",
            "/bin/bash: line 20: julia: command not found\n",
            "Installing Julia package SymbolicRegression...\n",
            "/bin/bash: line 20: julia: command not found\n",
            "/bin/bash: line 23: julia: command not found\n"
          ]
        },
        {
          "output_type": "error",
          "ename": "CalledProcessError",
          "evalue": "ignored",
          "traceback": [
            "\u001b[0;31m---------------------------------------------------------------------------\u001b[0m",
            "\u001b[0;31mCalledProcessError\u001b[0m                        Traceback (most recent call last)",
            "\u001b[0;32m<ipython-input-2-e847513e2479>\u001b[0m in \u001b[0;36m<module>\u001b[0;34m\u001b[0m\n\u001b[0;32m----> 1\u001b[0;31m \u001b[0mget_ipython\u001b[0m\u001b[0;34m(\u001b[0m\u001b[0;34m)\u001b[0m\u001b[0;34m.\u001b[0m\u001b[0mrun_cell_magic\u001b[0m\u001b[0;34m(\u001b[0m\u001b[0;34m'shell'\u001b[0m\u001b[0;34m,\u001b[0m \u001b[0;34m''\u001b[0m\u001b[0;34m,\u001b[0m \u001b[0;34m'\\n\\n#---------------------------------------------------#\\nJULIA_VERSION=\"1.7.2\"\\nJULIA_PACKAGES=\"PyCall SymbolicRegression\"\\nJULIA_NUM_THREADS=4\\n#---------------------------------------------------#\\n\\nif [ -z `which julia` ]; then\\n  # Install Julia\\n  JULIA_VER=`cut -d \\'.\\' -f -2 <<< \"$JULIA_VERSION\"`\\n  echo \"Installing Julia $JULIA_VERSION on the current Colab Runtime...\"\\n  BASE_URL=\"https://julialang-s3.julialang.org/bin/linux/x64\"\\n  URL=\"$BASE_URL/$JULIA_VER/julia-$JULIA_VERSION-linux-x86_64.tar.gz\"\\n  wget -nv $URL -O /tmp/julia.tar.gz # -nv means \"not verbose\"\\n  tar -x -f /tmp/julia.tar.gz -C /usr/local --strip-components 1\\n  rm /tmp/julia.tar.gz\\n\\n  for PKG in `echo $JULIA_PACKAGES`; do\\n    echo \"Installing Julia package $PKG...\"\\n    julia -e \\'using Pkg; pkg\"add \\'$PKG\\'; precompile;\"\\'\\n  done\\n  \\n  julia -e \\'println(\"Success\")\\'\\nfi\\n'\u001b[0m\u001b[0;34m)\u001b[0m\u001b[0;34m\u001b[0m\u001b[0;34m\u001b[0m\u001b[0m\n\u001b[0m",
            "\u001b[0;32m/usr/local/lib/python3.7/dist-packages/IPython/core/interactiveshell.py\u001b[0m in \u001b[0;36mrun_cell_magic\u001b[0;34m(self, magic_name, line, cell)\u001b[0m\n\u001b[1;32m   2357\u001b[0m             \u001b[0;32mwith\u001b[0m \u001b[0mself\u001b[0m\u001b[0;34m.\u001b[0m\u001b[0mbuiltin_trap\u001b[0m\u001b[0;34m:\u001b[0m\u001b[0;34m\u001b[0m\u001b[0;34m\u001b[0m\u001b[0m\n\u001b[1;32m   2358\u001b[0m                 \u001b[0margs\u001b[0m \u001b[0;34m=\u001b[0m \u001b[0;34m(\u001b[0m\u001b[0mmagic_arg_s\u001b[0m\u001b[0;34m,\u001b[0m \u001b[0mcell\u001b[0m\u001b[0;34m)\u001b[0m\u001b[0;34m\u001b[0m\u001b[0;34m\u001b[0m\u001b[0m\n\u001b[0;32m-> 2359\u001b[0;31m                 \u001b[0mresult\u001b[0m \u001b[0;34m=\u001b[0m \u001b[0mfn\u001b[0m\u001b[0;34m(\u001b[0m\u001b[0;34m*\u001b[0m\u001b[0margs\u001b[0m\u001b[0;34m,\u001b[0m \u001b[0;34m**\u001b[0m\u001b[0mkwargs\u001b[0m\u001b[0;34m)\u001b[0m\u001b[0;34m\u001b[0m\u001b[0;34m\u001b[0m\u001b[0m\n\u001b[0m\u001b[1;32m   2360\u001b[0m             \u001b[0;32mreturn\u001b[0m \u001b[0mresult\u001b[0m\u001b[0;34m\u001b[0m\u001b[0;34m\u001b[0m\u001b[0m\n\u001b[1;32m   2361\u001b[0m \u001b[0;34m\u001b[0m\u001b[0m\n",
            "\u001b[0;32m/usr/local/lib/python3.7/dist-packages/google/colab/_system_commands.py\u001b[0m in \u001b[0;36m_shell_cell_magic\u001b[0;34m(args, cmd)\u001b[0m\n\u001b[1;32m    107\u001b[0m   \u001b[0mresult\u001b[0m \u001b[0;34m=\u001b[0m \u001b[0m_run_command\u001b[0m\u001b[0;34m(\u001b[0m\u001b[0mcmd\u001b[0m\u001b[0;34m,\u001b[0m \u001b[0mclear_streamed_output\u001b[0m\u001b[0;34m=\u001b[0m\u001b[0;32mFalse\u001b[0m\u001b[0;34m)\u001b[0m\u001b[0;34m\u001b[0m\u001b[0;34m\u001b[0m\u001b[0m\n\u001b[1;32m    108\u001b[0m   \u001b[0;32mif\u001b[0m \u001b[0;32mnot\u001b[0m \u001b[0mparsed_args\u001b[0m\u001b[0;34m.\u001b[0m\u001b[0mignore_errors\u001b[0m\u001b[0;34m:\u001b[0m\u001b[0;34m\u001b[0m\u001b[0;34m\u001b[0m\u001b[0m\n\u001b[0;32m--> 109\u001b[0;31m     \u001b[0mresult\u001b[0m\u001b[0;34m.\u001b[0m\u001b[0mcheck_returncode\u001b[0m\u001b[0;34m(\u001b[0m\u001b[0;34m)\u001b[0m\u001b[0;34m\u001b[0m\u001b[0;34m\u001b[0m\u001b[0m\n\u001b[0m\u001b[1;32m    110\u001b[0m   \u001b[0;32mreturn\u001b[0m \u001b[0mresult\u001b[0m\u001b[0;34m\u001b[0m\u001b[0;34m\u001b[0m\u001b[0m\n\u001b[1;32m    111\u001b[0m \u001b[0;34m\u001b[0m\u001b[0m\n",
            "\u001b[0;32m/usr/local/lib/python3.7/dist-packages/google/colab/_system_commands.py\u001b[0m in \u001b[0;36mcheck_returncode\u001b[0;34m(self)\u001b[0m\n\u001b[1;32m    133\u001b[0m     \u001b[0;32mif\u001b[0m \u001b[0mself\u001b[0m\u001b[0;34m.\u001b[0m\u001b[0mreturncode\u001b[0m\u001b[0;34m:\u001b[0m\u001b[0;34m\u001b[0m\u001b[0;34m\u001b[0m\u001b[0m\n\u001b[1;32m    134\u001b[0m       raise subprocess.CalledProcessError(\n\u001b[0;32m--> 135\u001b[0;31m           returncode=self.returncode, cmd=self.args, output=self.output)\n\u001b[0m\u001b[1;32m    136\u001b[0m \u001b[0;34m\u001b[0m\u001b[0m\n\u001b[1;32m    137\u001b[0m   \u001b[0;32mdef\u001b[0m \u001b[0m_repr_pretty_\u001b[0m\u001b[0;34m(\u001b[0m\u001b[0mself\u001b[0m\u001b[0;34m,\u001b[0m \u001b[0mp\u001b[0m\u001b[0;34m,\u001b[0m \u001b[0mcycle\u001b[0m\u001b[0;34m)\u001b[0m\u001b[0;34m:\u001b[0m  \u001b[0;31m# pylint:disable=unused-argument\u001b[0m\u001b[0;34m\u001b[0m\u001b[0;34m\u001b[0m\u001b[0m\n",
            "\u001b[0;31mCalledProcessError\u001b[0m: Command '\n\n#---------------------------------------------------#\nJULIA_VERSION=\"1.7.2\"\nJULIA_PACKAGES=\"PyCall SymbolicRegression\"\nJULIA_NUM_THREADS=4\n#---------------------------------------------------#\n\nif [ -z `which julia` ]; then\n  # Install Julia\n  JULIA_VER=`cut -d '.' -f -2 <<< \"$JULIA_VERSION\"`\n  echo \"Installing Julia $JULIA_VERSION on the current Colab Runtime...\"\n  BASE_URL=\"https://julialang-s3.julialang.org/bin/linux/x64\"\n  URL=\"$BASE_URL/$JULIA_VER/julia-$JULIA_VERSION-linux-x86_64.tar.gz\"\n  wget -nv $URL -O /tmp/julia.tar.gz # -nv means \"not verbose\"\n  tar -x -f /tmp/julia.tar.gz -C /usr/local --strip-components 1\n  rm /tmp/julia.tar.gz\n\n  for PKG in `echo $JULIA_PACKAGES`; do\n    echo \"Installing Julia package $PKG...\"\n    julia -e 'using Pkg; pkg\"add '$PKG'; precompile;\"'\n  done\n  \n  julia -e 'println(\"Success\")'\nfi\n' returned non-zero exit status 127."
          ]
        }
      ],
      "source": [
        "%%shell\n",
        "set -e\n",
        "\n",
        "#---------------------------------------------------#\n",
        "JULIA_VERSION=\"1.7.2\"\n",
        "JULIA_PACKAGES=\"PyCall SymbolicRegression\"\n",
        "JULIA_NUM_THREADS=4\n",
        "#---------------------------------------------------#\n",
        "\n",
        "if [ -z `which julia` ]; then\n",
        "  # Install Julia\n",
        "  JULIA_VER=`cut -d '.' -f -2 <<< \"$JULIA_VERSION\"`\n",
        "  echo \"Installing Julia $JULIA_VERSION on the current Colab Runtime...\"\n",
        "  BASE_URL=\"https://julialang-s3.julialang.org/bin/linux/x64\"\n",
        "  URL=\"$BASE_URL/$JULIA_VER/julia-$JULIA_VERSION-linux-x86_64.tar.gz\"\n",
        "  wget -nv $URL -O /tmp/julia.tar.gz # -nv means \"not verbose\"\n",
        "  tar -x -f /tmp/julia.tar.gz -C /usr/local --strip-components 1\n",
        "  rm /tmp/julia.tar.gz\n",
        "\n",
        "  for PKG in `echo $JULIA_PACKAGES`; do\n",
        "    echo \"Installing Julia package $PKG...\"\n",
        "    julia -e 'using Pkg; pkg\"add '$PKG'; precompile;\"'\n",
        "  done\n",
        "  \n",
        "  julia -e 'println(\"Success\")'\n",
        "fi"
      ]
    },
    {
      "cell_type": "markdown",
      "metadata": {
        "id": "ORv1c6xvbDgV"
      },
      "source": [
        "Install PySR and PyTorch-Lightning:"
      ]
    },
    {
      "cell_type": "code",
      "execution_count": null,
      "metadata": {
        "id": "EhMRSZEYFPLz"
      },
      "outputs": [],
      "source": [
        "%pip install -Uq pysr pytorch_lightning"
      ]
    },
    {
      "cell_type": "markdown",
      "metadata": {
        "id": "jphGRGiVwrj1"
      },
      "source": [
        "The following step is not normally required, but colab's printing is non-standard and we need to manually set it up PyJulia:\n"
      ]
    },
    {
      "cell_type": "code",
      "execution_count": null,
      "metadata": {
        "id": "j666aOI8xWF_"
      },
      "outputs": [],
      "source": [
        "from julia import Julia\n",
        "\n",
        "julia = Julia(compiled_modules=False)\n",
        "from julia import Main\n",
        "from julia.tools import redirect_output_streams\n",
        "\n",
        "redirect_output_streams()\n"
      ]
    },
    {
      "cell_type": "markdown",
      "metadata": {
        "id": "6u2WhbVhht-G"
      },
      "source": [
        "Let's install the backend of PySR, and all required libraries. We will also precompile them so they are faster at startup.\n",
        "\n",
        "**(This may take some time)**"
      ]
    },
    {
      "cell_type": "code",
      "execution_count": null,
      "metadata": {
        "id": "J-0QbxyK1_51"
      },
      "outputs": [],
      "source": [
        "import pysr\n",
        "\n",
        "pysr.install()\n"
      ]
    },
    {
      "cell_type": "code",
      "execution_count": null,
      "metadata": {
        "id": "vFpyRxmhFqeH"
      },
      "outputs": [],
      "source": [
        "from sympy import *\n",
        "import numpy as np\n",
        "from matplotlib import pyplot as plt\n",
        "# import seaborn as sns\n",
        "#from pysr import PySRRegressor\n",
        "import torch\n",
        "from torch import nn, optim\n",
        "from torch.nn import functional as F\n",
        "from torch.utils.data import DataLoader, TensorDataset\n",
        "#import pytorch_lightning as pl\n",
        "from sklearn.model_selection import train_test_split\n",
        "from google.colab import files\n",
        "import os\n",
        "import pandas as pd\n",
        "\n",
        "# sns.set()\n",
        "# sns.set_theme(style=\"whitegrid\", palette=\"muted\")"
      ]
    },
    {
      "cell_type": "markdown",
      "source": [
        "# Scoring"
      ],
      "metadata": {
        "id": "Mc21TSlmdVyt"
      }
    },
    {
      "cell_type": "code",
      "execution_count": 25,
      "metadata": {
        "id": "NkT3E_LQ97bK"
      },
      "outputs": [],
      "source": [
        "np.random.seed(0)\n",
        "N = 200\n",
        "upper_sigma = 2\n",
        "X = 2 * np.random.rand(N, 5)\n",
        "sigma = np.random.rand(N) * (upper_sigma - 0.1) + 0.1\n",
        "eps = sigma * np.random.randn(N)\n",
        "y = 5 * np.cos(3.5 * X[:, 0]) - 1.3 + eps"
      ]
    },
    {
      "cell_type": "code",
      "execution_count": 7,
      "metadata": {
        "colab": {
          "base_uri": "https://localhost:8080/"
        },
        "id": "CaUr6hOQ3Ii9",
        "outputId": "46f9d92f-11ad-404a-db66-c2d99f4599ae"
      },
      "outputs": [
        {
          "output_type": "stream",
          "name": "stderr",
          "text": [
            "/usr/local/lib/python3.7/dist-packages/pysr/sr.py:1206: UserWarning: Note: it looks like you are running in Jupyter. The progress bar will be turned off.\n",
            "  \"Note: it looks like you are running in Jupyter. \"\n",
            "/usr/local/lib/python3.7/dist-packages/sklearn/gaussian_process/kernels.py:437: ConvergenceWarning: The optimal value found for dimension 3 of parameter k1__k1__length_scale is close to the specified upper bound 100000.0. Increasing the bound and calling fit again may find a better value.\n",
            "  ConvergenceWarning,\n",
            "/usr/local/lib/python3.7/dist-packages/sklearn/gaussian_process/kernels.py:427: ConvergenceWarning: The optimal value found for dimension 0 of parameter k2__constant_value is close to the specified lower bound 1e-05. Decreasing the bound and calling fit again may find a better value.\n",
            "  ConvergenceWarning,\n",
            "  Activating project at `~/.julia/environments/pysr-0.10.2`\n",
            "   Resolving package versions...\n",
            "  No Changes to `~/.julia/environments/pysr-0.10.2/Project.toml`\n",
            "  No Changes to `~/.julia/environments/pysr-0.10.2/Manifest.toml`\n",
            "   Resolving package versions...\n",
            "  No Changes to `~/.julia/environments/pysr-0.10.2/Project.toml`\n",
            "  No Changes to `~/.julia/environments/pysr-0.10.2/Manifest.toml`\n",
            "  No Changes to `~/.julia/environments/pysr-0.10.2/Project.toml`\n",
            "  No Changes to `~/.julia/environments/pysr-0.10.2/Manifest.toml`\n"
          ]
        },
        {
          "output_type": "stream",
          "name": "stdout",
          "text": [
            "Started!\n",
            "\n",
            "Cycles per second: 2.240e+04\n",
            "Head worker occupation: 12.9%\n",
            "Progress: 62 / 400 total iterations (15.500%)\n",
            "==============================\n",
            "Hall of Fame:\n",
            "-----------------------------------------\n",
            "Complexity  loss       Score     Equation\n",
            "1           1.219e+01  7.815e-08  -0.7879127\n",
            "3           1.145e+01  3.116e-02  (x0 + -1.8671883)\n",
            "4           8.393e+00  3.106e-01  cos(x0 * 3.4636276)\n",
            "6           1.349e+00  9.142e-01  (cos(x0 * 3.4636276) * 4.6310472)\n",
            "8           1.401e-02  2.283e+00  ((cos(x0 * 3.518299) * 4.800851) + -1.1722841)\n",
            "10          1.401e-02  1.788e-07  (((cos(x0 * 3.518299) * 4.843355) + -1.18266) * 0.9912223)\n",
            "13          1.401e-02  1.633e-04  (((cos(x0 * 3.5184538) * 4.80102) + (cos(x1) * -0.0061642136)) + -1.1693602)\n",
            "17          1.358e-02  7.764e-03  ((cos(x0 * 3.518299) * 4.800851) + (cos(cos(cos(x0 * 3.518299)) * 0.2878972) * -1.2029574))\n",
            "\n",
            "==============================\n",
            "Press 'q' and then <enter> to stop execution early.\n",
            "\n",
            "Cycles per second: 2.760e+04\n",
            "Head worker occupation: 6.9%\n",
            "Progress: 153 / 400 total iterations (38.250%)\n",
            "==============================\n",
            "Hall of Fame:\n",
            "-----------------------------------------\n",
            "Complexity  loss       Score     Equation\n",
            "1           1.219e+01  7.815e-08  -0.7879127\n",
            "3           1.144e+01  3.161e-02  (x0 + -1.7656628)\n",
            "4           8.393e+00  3.098e-01  cos(x0 * 3.4837847)\n",
            "6           1.349e+00  9.141e-01  (cos(x0 * 3.4636276) * 4.6310472)\n",
            "8           1.401e-02  2.283e+00  ((cos(x0 * 3.518299) * 4.800851) + -1.1722841)\n",
            "10          1.401e-02  1.788e-07  (((cos(x0 * 3.518299) * 4.843355) + -1.18266) * 0.9912223)\n",
            "12          1.365e-02  1.312e-02  (((cos(x0 * 3.5164745) + (x0 * 0.007435686)) * 4.793155) + -1.205838)\n",
            "14          7.083e-03  3.280e-01  ((cos(x0 * 3.518299) * (cos(cos(x0 * 3.518299)) + 4.2167816)) + -1.1722841)\n",
            "16          6.348e-03  5.475e-02  ((cos(x0 * 3.518299) * (cos(cos(x0 * 3.518299) * 1.0206025) + 4.2167816)) + -1.1722841)\n",
            "\n",
            "==============================\n",
            "Press 'q' and then <enter> to stop execution early.\n",
            "\n",
            "Cycles per second: 2.930e+04\n",
            "Head worker occupation: 5.2%\n",
            "Progress: 244 / 400 total iterations (61.000%)\n",
            "==============================\n",
            "Hall of Fame:\n",
            "-----------------------------------------\n",
            "Complexity  loss       Score     Equation\n",
            "1           1.219e+01  7.815e-08  -0.7879127\n",
            "3           1.144e+01  3.161e-02  (x0 + -1.7656628)\n",
            "4           8.393e+00  3.098e-01  cos(x0 * 3.4837847)\n",
            "6           1.349e+00  9.141e-01  (cos(x0 * 3.4636276) * 4.6310472)\n",
            "8           1.401e-02  2.283e+00  ((cos(x0 * 3.518299) * 4.800851) + -1.1722841)\n",
            "10          1.399e-02  9.389e-04  ((cos((x0 * 3.5217066) + -0.003792813) * 4.80087) + -1.1761054)\n",
            "12          1.365e-02  1.218e-02  (((cos(x0 * 3.5164745) + (x0 * 0.007435686)) * 4.793155) + -1.205838)\n",
            "14          7.038e-03  3.312e-01  ((cos(x0 * 3.5180016) * (cos(cos(x0 * 3.5180016)) + 4.1131945)) + -1.169022)\n",
            "16          6.348e-03  5.156e-02  ((cos(x0 * 3.518299) * (cos(cos(x0 * 3.518299) * 1.0206025) + 4.2167816)) + -1.1722841)\n",
            "17          6.183e-03  2.643e-02  ((cos(x0 * 3.5180016) * (cos(cos(x0 * 3.5180016) * cos(0.2686859)) + 4.1131945)) + -1.169022)\n",
            "18          6.128e-03  8.935e-03  ((cos(x0 * 3.518299) * (cos(cos(x0 * (3.518299 + 0.08951249)) * 1.0206025) + 4.2167816)) + -1.1722841)\n",
            "20          5.977e-03  1.241e-02  ((cos(x0 * 3.5180016) * ((((cos(cos(x0 * 3.5180016)) + 3.5180016) * 0.97113967) + -0.03893881) + 0.7822366)) + -1.169022)\n",
            "\n",
            "==============================\n",
            "Press 'q' and then <enter> to stop execution early.\n",
            "\n",
            "Cycles per second: 3.000e+04\n",
            "Head worker occupation: 4.4%\n",
            "Progress: 332 / 400 total iterations (83.000%)\n",
            "==============================\n",
            "Hall of Fame:\n",
            "-----------------------------------------\n",
            "Complexity  loss       Score     Equation\n",
            "1           1.219e+01  7.815e-08  -0.7879127\n",
            "3           1.144e+01  3.161e-02  (x0 + -1.7656628)\n",
            "4           8.393e+00  3.098e-01  cos(x0 * 3.4837847)\n",
            "6           1.349e+00  9.141e-01  (cos(x0 * 3.4636276) * 4.6310472)\n",
            "8           1.401e-02  2.283e+00  ((cos(x0 * 3.518299) * 4.800851) + -1.1722841)\n",
            "10          1.399e-02  9.400e-04  ((cos((x0 * 3.5217524) + -0.0038150367) * 4.800978) + -1.1761336)\n",
            "12          1.365e-02  1.218e-02  (((cos(x0 * 3.5164745) + (x0 * 0.007435686)) * 4.793155) + -1.205838)\n",
            "14          6.544e-03  3.676e-01  ((cos(x0 * 3.517321) * (cos(cos(x0 * 3.517321)) + 4.1219077)) + -1.1613512)\n",
            "16          5.708e-03  6.833e-02  ((cos(x0 * 3.5180016) * ((0.65939134 + cos(cos(x0 * 3.5180016))) + 3.5180016)) + -1.169022)\n",
            "19          5.360e-03  2.097e-02  ((cos(x0 * 3.5180016) * (cos(cos(x0 * 3.5180016) * cos(x0 * 0.3002087)) + 4.1131945)) + -1.169022)\n",
            "\n",
            "==============================\n",
            "Press 'q' and then <enter> to stop execution early.\n"
          ]
        },
        {
          "output_type": "execute_result",
          "data": {
            "text/plain": [
              "PySRRegressor.equations_ = [\n",
              "\t    pick     score                                           equation  \\\n",
              "\t0         0.000000                                         -0.7879127   \n",
              "\t1         0.031611                                  (x0 + -1.7656628)   \n",
              "\t2         0.309802                                cos(x0 * 3.4785361)   \n",
              "\t3         0.914121                  (cos(x0 * 3.4636276) * 4.6310472)   \n",
              "\t4         2.283462     ((cos(x0 * 3.518299) * 4.800851) + -1.1722841)   \n",
              "\t5         0.000940  ((cos((x0 * 3.5217524) + -0.0038150367) * 4.80...   \n",
              "\t6         0.012181  (((cos(x0 * 3.5164745) + (x0 * 0.007435686)) *...   \n",
              "\t7   >>>>  0.368083  ((cos(x0 * 3.517321) * (cos(cos(x0 * 3.5180051...   \n",
              "\t8         0.067817  ((cos(x0 * 3.5180016) * ((0.65939134 + cos(cos...   \n",
              "\t9         0.030729  ((cos(x0 * 3.5180016) * ((0.65939134 + cos(cos...   \n",
              "\t10        0.057456  ((cos(x0 * 3.5180016) * (cos(cos(x0 * 3.518001...   \n",
              "\t\n",
              "\t         loss  complexity  \n",
              "\t0   12.186966           1  \n",
              "\t1   11.440326           3  \n",
              "\t2    8.392536           4  \n",
              "\t3    1.348645           6  \n",
              "\t4    0.014012           8  \n",
              "\t5    0.013986          10  \n",
              "\t6    0.013649          12  \n",
              "\t7    0.006537          14  \n",
              "\t8    0.005708          16  \n",
              "\t9    0.005368          18  \n",
              "\t10   0.005068          19  \n",
              "]"
            ]
          },
          "metadata": {},
          "execution_count": 7
        }
      ],
      "source": [
        "model = PySRRegressor(\n",
        "    niterations=20,\n",
        "    populations=20,\n",
        "    binary_operators=[\"plus\", \"mult\"],\n",
        "    unary_operators=[\"cos\"],\n",
        "    denoise=True,\n",
        "    model_selection='best',\n",
        ")\n",
        "model.fit(X, y)"
      ]
    },
    {
      "cell_type": "code",
      "source": [
        "best_idx = model.equations_.query(\n",
        "    f\"loss < {2 * model.equations_.loss.min()}\"\n",
        ").score.idxmax()"
      ],
      "metadata": {
        "id": "zbDMC1GleMCl"
      },
      "execution_count": null,
      "outputs": []
    },
    {
      "cell_type": "code",
      "source": [
        "print(model.equations_.score)"
      ],
      "metadata": {
        "colab": {
          "base_uri": "https://localhost:8080/"
        },
        "id": "Aarr9RhZftRA",
        "outputId": "23778609-020e-4581-f128-df17d3736f4c"
      },
      "execution_count": 32,
      "outputs": [
        {
          "output_type": "stream",
          "name": "stdout",
          "text": [
            "0     0.000000\n",
            "1     0.031611\n",
            "2     0.309802\n",
            "3     0.914121\n",
            "4     2.283462\n",
            "5     0.000940\n",
            "6     0.012181\n",
            "7     0.368083\n",
            "8     0.067817\n",
            "9     0.030729\n",
            "10    0.057456\n",
            "Name: score, dtype: float64\n"
          ]
        }
      ]
    },
    {
      "cell_type": "code",
      "source": [
        "output_path='model.csv'\n",
        "model.equations_.to_csv('model.csv', mode='a', header=not os.path.exists(output_path))"
      ],
      "metadata": {
        "id": "Io06hEuXgPI2"
      },
      "execution_count": 16,
      "outputs": []
    },
    {
      "cell_type": "code",
      "source": [
        "files.download(\"model.csv\") "
      ],
      "metadata": {
        "colab": {
          "base_uri": "https://localhost:8080/",
          "height": 17
        },
        "id": "irzGMfGig-O3",
        "outputId": "eb9d517f-6962-415d-e2b1-77371f0a5264"
      },
      "execution_count": 17,
      "outputs": [
        {
          "output_type": "display_data",
          "data": {
            "text/plain": [
              "<IPython.core.display.Javascript object>"
            ],
            "application/javascript": [
              "\n",
              "    async function download(id, filename, size) {\n",
              "      if (!google.colab.kernel.accessAllowed) {\n",
              "        return;\n",
              "      }\n",
              "      const div = document.createElement('div');\n",
              "      const label = document.createElement('label');\n",
              "      label.textContent = `Downloading \"${filename}\": `;\n",
              "      div.appendChild(label);\n",
              "      const progress = document.createElement('progress');\n",
              "      progress.max = size;\n",
              "      div.appendChild(progress);\n",
              "      document.body.appendChild(div);\n",
              "\n",
              "      const buffers = [];\n",
              "      let downloaded = 0;\n",
              "\n",
              "      const channel = await google.colab.kernel.comms.open(id);\n",
              "      // Send a message to notify the kernel that we're ready.\n",
              "      channel.send({})\n",
              "\n",
              "      for await (const message of channel.messages) {\n",
              "        // Send a message to notify the kernel that we're ready.\n",
              "        channel.send({})\n",
              "        if (message.buffers) {\n",
              "          for (const buffer of message.buffers) {\n",
              "            buffers.push(buffer);\n",
              "            downloaded += buffer.byteLength;\n",
              "            progress.value = downloaded;\n",
              "          }\n",
              "        }\n",
              "      }\n",
              "      const blob = new Blob(buffers, {type: 'application/binary'});\n",
              "      const a = document.createElement('a');\n",
              "      a.href = window.URL.createObjectURL(blob);\n",
              "      a.download = filename;\n",
              "      div.appendChild(a);\n",
              "      a.click();\n",
              "      div.remove();\n",
              "    }\n",
              "  "
            ]
          },
          "metadata": {}
        },
        {
          "output_type": "display_data",
          "data": {
            "text/plain": [
              "<IPython.core.display.Javascript object>"
            ],
            "application/javascript": [
              "download(\"download_16c9d462-d6f6-4613-959c-03c6f29a4edc\", \"model.csv\", 4507)"
            ]
          },
          "metadata": {}
        }
      ]
    },
    {
      "cell_type": "code",
      "source": [
        "print(model.equations_)"
      ],
      "metadata": {
        "colab": {
          "base_uri": "https://localhost:8080/"
        },
        "id": "pTvsB6JJipKa",
        "outputId": "a3fd3cef-21f6-4e6f-8c04-4e79612748a9"
      },
      "execution_count": 37,
      "outputs": [
        {
          "output_type": "stream",
          "name": "stdout",
          "text": [
            "    complexity       loss     score  \\\n",
            "0            1  12.186966  0.000000   \n",
            "1            3  11.440326  0.031611   \n",
            "2            4   8.392536  0.309802   \n",
            "3            6   1.348645  0.914121   \n",
            "4            8   0.014012  2.283462   \n",
            "5           10   0.013986  0.000940   \n",
            "6           12   0.013649  0.012181   \n",
            "7           14   0.006537  0.368083   \n",
            "8           16   0.005708  0.067817   \n",
            "9           18   0.005368  0.030729   \n",
            "10          19   0.005068  0.057456   \n",
            "\n",
            "                                             equation  \\\n",
            "0                                          -0.7879127   \n",
            "1                                   (x0 + -1.7656628)   \n",
            "2                                 cos(x0 * 3.4785361)   \n",
            "3                   (cos(x0 * 3.4636276) * 4.6310472)   \n",
            "4      ((cos(x0 * 3.518299) * 4.800851) + -1.1722841)   \n",
            "5   ((cos((x0 * 3.5217524) + -0.0038150367) * 4.80...   \n",
            "6   (((cos(x0 * 3.5164745) + (x0 * 0.007435686)) *...   \n",
            "7   ((cos(x0 * 3.517321) * (cos(cos(x0 * 3.5180051...   \n",
            "8   ((cos(x0 * 3.5180016) * ((0.65939134 + cos(cos...   \n",
            "9   ((cos(x0 * 3.5180016) * ((0.65939134 + cos(cos...   \n",
            "10  ((cos(x0 * 3.5180016) * (cos(cos(x0 * 3.518001...   \n",
            "\n",
            "                                         sympy_format  \\\n",
            "0                                  -0.787912700000000   \n",
            "1                                      x0 - 1.7656628   \n",
            "2                                   cos(3.4785361*x0)   \n",
            "3                         4.6310472*cos(3.4636276*x0)   \n",
            "4               4.800851*cos(3.518299*x0) - 1.1722841   \n",
            "5   4.800978*cos(3.5217524*x0 - 0.0038150367) - 1....   \n",
            "6   0.03564039552933*x0 + 4.793155*cos(3.5164745*x...   \n",
            "7   (cos(cos(3.5180051*x0)) + 4.1219077)*cos(3.517...   \n",
            "8   (cos(cos(3.5180016*x0)) + 4.17739294)*cos(3.51...   \n",
            "9   (cos(cos(3.59867606089104*x0)) + 4.17739294)*c...   \n",
            "10  (cos(cos(3.5180016*x0)**2) + 4.1131945)*cos(3....   \n",
            "\n",
            "                                        lambda_format  sample_size  \n",
            "0                 PySRFunction(X=>-0.787912700000000)          200  \n",
            "1                     PySRFunction(X=>x0 - 1.7656628)          200  \n",
            "2                  PySRFunction(X=>cos(3.4785361*x0))          200  \n",
            "3        PySRFunction(X=>4.6310472*cos(3.4636276*x0))          200  \n",
            "4   PySRFunction(X=>4.800851*cos(3.518299*x0) - 1....          200  \n",
            "5   PySRFunction(X=>4.800978*cos(3.5217524*x0 - 0....          200  \n",
            "6   PySRFunction(X=>0.03564039552933*x0 + 4.793155...          200  \n",
            "7   PySRFunction(X=>(cos(cos(3.5180051*x0)) + 4.12...          200  \n",
            "8   PySRFunction(X=>(cos(cos(3.5180016*x0)) + 4.17...          200  \n",
            "9   PySRFunction(X=>(cos(cos(3.59867606089104*x0))...          200  \n",
            "10  PySRFunction(X=>(cos(cos(3.5180016*x0)**2) + 4...          200  \n"
          ]
        }
      ]
    },
    {
      "cell_type": "code",
      "source": [
        "model.equations_[\"sample_size\"] = pd.Series(N, index=range(model.equations_.score.shape[0]))"
      ],
      "metadata": {
        "id": "vkZ2uslsitXl"
      },
      "execution_count": 36,
      "outputs": []
    },
    {
      "cell_type": "code",
      "source": [
        "output_path='model.csv'\n",
        "\n",
        "for N in np.arange(5, 250, 5, dtype=int):\n",
        "    # calc samples\n",
        "    np.random.seed(0)\n",
        "    upper_sigma = 2\n",
        "    X = 2 * np.random.rand(N, 5)\n",
        "    sigma = np.random.rand(N) * (upper_sigma - 0.1) + 0.1\n",
        "    eps = sigma * np.random.randn(N)\n",
        "    y = 5 * np.cos(3.5 * X[:, 0]) - 1.3 + eps\n",
        "\n",
        "    # init model\n",
        "    model = PySRRegressor(\n",
        "    niterations=20,\n",
        "    populations=20,\n",
        "    binary_operators=[\"plus\", \"mult\"],\n",
        "    unary_operators=[\"cos\"],\n",
        "    denoise=True,\n",
        "    model_selection='best')\n",
        "\n",
        "    # fit model\n",
        "    model.fit(X, y)\n",
        "\n",
        "    # save model to csv\n",
        "    model.equations_[\"sample_size\"] = pd.Series(N, index=range(model.equations_.score.shape[0]))\n",
        "    model.equations_.to_csv('model.csv', mode='a', header=not os.path.exists(output_path))"
      ],
      "metadata": {
        "id": "pvJyqrRDkq9p"
      },
      "execution_count": null,
      "outputs": []
    },
    {
      "cell_type": "code",
      "source": [],
      "metadata": {
        "colab": {
          "base_uri": "https://localhost:8080/"
        },
        "id": "qA2wsz9Cm3Jc",
        "outputId": "a26cae63-845b-4f11-8a15-6ad77db10207"
      },
      "execution_count": 55,
      "outputs": [
        {
          "output_type": "execute_result",
          "data": {
            "text/plain": [
              "array([  5,  10,  15,  20,  25,  30,  35,  40,  45,  50,  55,  60,  65,\n",
              "        70,  75,  80,  85,  90,  95, 100, 105, 110, 115, 120, 125, 130,\n",
              "       135, 140, 145, 150, 155, 160, 165, 170, 175, 180, 185, 190, 195,\n",
              "       200, 205, 210, 215, 220, 225, 230, 235, 240, 245])"
            ]
          },
          "metadata": {},
          "execution_count": 55
        }
      ]
    },
    {
      "cell_type": "code",
      "source": [],
      "metadata": {
        "id": "OosQjM4knFGS"
      },
      "execution_count": null,
      "outputs": []
    },
    {
      "cell_type": "markdown",
      "source": [
        "# Analysis"
      ],
      "metadata": {
        "id": "jA2uGeDWt0e2"
      }
    },
    {
      "cell_type": "code",
      "source": [
        "data = pd.read_csv(\"models.csv\")"
      ],
      "metadata": {
        "id": "Fl5uUO0nt1qf"
      },
      "execution_count": 4,
      "outputs": []
    },
    {
      "cell_type": "code",
      "source": [
        "print(data)"
      ],
      "metadata": {
        "colab": {
          "base_uri": "https://localhost:8080/"
        },
        "id": "7VeJl1FMvL3n",
        "outputId": "bd5ab493-0dc8-490c-9d79-5e29e41e0ffd"
      },
      "execution_count": 5,
      "outputs": [
        {
          "output_type": "stream",
          "name": "stdout",
          "text": [
            "     Unnamed: 0  complexity      loss     score  \\\n",
            "0             0           1  0.208077  0.000000   \n",
            "1             1           2  0.143119  0.374228   \n",
            "2             2           4  0.041711  0.616462   \n",
            "3             3           6  0.001574  1.638659   \n",
            "4             4           8  0.000382  0.707753   \n",
            "..          ...         ...       ...       ...   \n",
            "481           3           6  1.468552  0.875722   \n",
            "482           4           8  0.031850  1.915490   \n",
            "483           5          10  0.030176  0.027003   \n",
            "484           6          14  0.016633  0.148914   \n",
            "485           7          16  0.012662  0.136399   \n",
            "\n",
            "                                              equation  \\\n",
            "0                                          0.095383376   \n",
            "1                                              cos(x2)   \n",
            "2                                 cos(x4 * -2.7049935)   \n",
            "3                   (cos(x4 * 2.7715294) * 0.69023037)   \n",
            "4             ((cos(x4 * 3.1838963) * x0) * 0.4235415)   \n",
            "..                                                 ...   \n",
            "481                  (cos(x0 * -3.3912482) * 4.640574)   \n",
            "482   ((cos(x0 * -3.4641461) * 4.763473) + -1.2207073)   \n",
            "483  ((cos((x0 * -3.4955316) + 0.033985466) * 4.762...   \n",
            "484  (((cos(x0 * -3.465841) * 4.7610955) + -1.98128...   \n",
            "485  (((cos(x0 * -3.465841) * 4.7610955) + -1.98128...   \n",
            "\n",
            "                                          sympy_format  \\\n",
            "0                                   0.0953833760000000   \n",
            "1                                              cos(x2)   \n",
            "2                                    cos(2.7049935*x4)   \n",
            "3                         0.69023037*cos(2.7715294*x4)   \n",
            "4                       0.4235415*x0*cos(3.1838963*x4)   \n",
            "..                                                 ...   \n",
            "481                         4.640574*cos(3.3912482*x0)   \n",
            "482             4.763473*cos(3.4641461*x0) - 1.2207073   \n",
            "483  4.762349*cos(3.4955316*x0 - 0.033985466) - 1.2...   \n",
            "484  4.7610955*cos(3.465841*x0) + cos(cos(3.8330183...   \n",
            "485  4.7610955*cos(3.465841*x0) + cos(cos(3.465841*...   \n",
            "\n",
            "                                         lambda_format  sample_size  \n",
            "0                  PySRFunction(X=>0.0953833760000000)            5  \n",
            "1                             PySRFunction(X=>cos(x2))            5  \n",
            "2                   PySRFunction(X=>cos(2.7049935*x4))            5  \n",
            "3        PySRFunction(X=>0.69023037*cos(2.7715294*x4))            5  \n",
            "4      PySRFunction(X=>0.4235415*x0*cos(3.1838963*x4))            5  \n",
            "..                                                 ...          ...  \n",
            "481        PySRFunction(X=>4.640574*cos(3.3912482*x0))          245  \n",
            "482  PySRFunction(X=>4.763473*cos(3.4641461*x0) - 1...          245  \n",
            "483  PySRFunction(X=>4.762349*cos(3.4955316*x0 - 0....          245  \n",
            "484  PySRFunction(X=>4.7610955*cos(3.465841*x0) + c...          245  \n",
            "485  PySRFunction(X=>4.7610955*cos(3.465841*x0) + c...          245  \n",
            "\n",
            "[486 rows x 8 columns]\n"
          ]
        }
      ]
    },
    {
      "cell_type": "code",
      "source": [
        "s = 5\n",
        "df1 = data[data['sample_size'] == s]\n",
        "print (df1.loss.min())"
      ],
      "metadata": {
        "colab": {
          "base_uri": "https://localhost:8080/"
        },
        "id": "pvOxEoGAup5B",
        "outputId": "d95c7d92-a5cd-4462-b92b-599f7e47e907"
      },
      "execution_count": 18,
      "outputs": [
        {
          "output_type": "stream",
          "name": "stdout",
          "text": [
            "3.901261e-05\n"
          ]
        }
      ]
    },
    {
      "cell_type": "code",
      "source": [
        "N_list = np.arange(5,250,step=5)\n",
        "scores = []\n",
        "losses = []\n",
        "equations = []\n",
        "for N in N_list:\n",
        "    df = data[data['sample_size'] == N]\n",
        "    best_score = df.score.max()\n",
        "    best_loss = df.loss.min()\n",
        "    scores.append(best_score)\n",
        "    losses.append(best_loss)\n",
        "\n",
        "print(scores)\n",
        "print(losses)"
      ],
      "metadata": {
        "colab": {
          "base_uri": "https://localhost:8080/"
        },
        "id": "YIIidtkJv6Dm",
        "outputId": "000d32a4-57ff-407a-f58f-582e8c8c8e8a"
      },
      "execution_count": 19,
      "outputs": [
        {
          "output_type": "stream",
          "name": "stdout",
          "text": [
            "[1.6386592788795316, 1.5164697876538893, 1.5949016428352754, 0.8422265520414454, 2.602021785284959, 1.95318486195996, 1.171116671739174, 1.86508981536707, 2.0039311973671623, 2.0999543611040075, 1.545690094227106, 2.0087260930139745, 1.955025241107514, 2.8604950729020877, 1.5683244717788365, 1.7364043313452564, 1.864244060941236, 2.0418275403104857, 1.96642341378132, 2.012709162742412, 1.7704453505275728, 2.832887732084196, 2.054712291433792, 2.396775605066109, 2.4508716710078637, 1.854249593993477, 2.424857321579273, 5.827062818987498, 1.8133168557527204, 2.0581253316457158, 2.3681842206844634, 2.337274815091889, 2.019904721938384, 2.1721173144821324, 1.8071762894845675, 1.9305314571130137, 2.123953681040861, 2.432499627515376, 1.884559741972225, 2.283462362064073, 2.430331502172797, 1.862427752665752, 1.738452441488243, 2.4524642879051024, 1.7074193653157332, 1.8172034434955928, 1.9228711982638127, 1.585055698650898, 1.9154903040287097]\n",
            "[3.901261e-05, 0.0017711776, 0.00017820811, 0.0014334536, 0.0009896704, 0.0015618982, 0.014578965, 0.0036248513, 0.0055227317, 0.0037562759, 0.008959812, 0.0097121475, 0.011853716, 0.002351206, 0.011767459, 0.011542609, 0.009663821, 0.021524595, 0.024069691, 0.0064475993, 0.008302824, 0.0024483257, 0.0075594736, 0.007989566, 0.010061808, 0.008796959, 0.0076673417, 0.0063577904, 0.0076728477, 0.005123525, 0.006806169, 0.0057233158, 0.020453466, 0.0041248403, 0.0064354115, 0.006284882, 0.009458833, 0.0058729574, 0.019390691, 0.0056980755, 0.0075527085, 0.0034075577, 0.008757745, 0.003527953, 0.01955088, 0.017171878, 0.021622326, 0.02878977, 0.012661828]\n"
          ]
        }
      ]
    },
    {
      "cell_type": "code",
      "source": [
        "plt.plot(N_list, scores)\n",
        "plt.xlabel('Input sample size')\n",
        "plt.ylabel('score')\n",
        "plt.title('Best scores evaluated with different input sample sizes')\n",
        "plt.savefig('scores.png', dpi=200)"
      ],
      "metadata": {
        "colab": {
          "base_uri": "https://localhost:8080/",
          "height": 295
        },
        "id": "kJePdTEEwQj4",
        "outputId": "baf6afc8-24b6-4ca0-f713-f5e20acb6bd0"
      },
      "execution_count": 34,
      "outputs": [
        {
          "output_type": "display_data",
          "data": {
            "text/plain": [
              "<Figure size 432x288 with 1 Axes>"
            ],
            "image/png": "[encoded data removed]"
          },
          "metadata": {
            "needs_background": "light"
          }
        }
      ]
    },
    {
      "cell_type": "code",
      "source": [
        "scaled_scores = []\n",
        "for idx, N in enumerate(N_list):\n",
        "    scaled_score = scores[idx]/(N+100)\n",
        "    scaled_scores.append(scaled_score)"
      ],
      "metadata": {
        "id": "ZiVY92bc1uN0"
      },
      "execution_count": null,
      "outputs": []
    },
    {
      "cell_type": "code",
      "source": [
        "plt.plot(N_list, scaled_scores)\n",
        "plt.xlabel('Input sample size')\n",
        "plt.ylabel('score')\n",
        "plt.title('Weighted: Best scores evaluated with different input sample sizes')\n",
        "plt.savefig('weighted_scores.png', dpi=200)"
      ],
      "metadata": {
        "colab": {
          "base_uri": "https://localhost:8080/",
          "height": 295
        },
        "id": "us9KPYas3Oaq",
        "outputId": "989cf8a9-a810-45c2-d55a-0fe3b0b39600"
      },
      "execution_count": 35,
      "outputs": [
        {
          "output_type": "display_data",
          "data": {
            "text/plain": [
              "<Figure size 432x288 with 1 Axes>"
            ],
            "image/png": "[encoded data removed]"
          },
          "metadata": {
            "needs_background": "light"
          }
        }
      ]
    },
    {
      "cell_type": "code",
      "source": [
        "files.download(\"scores.png\")\n",
        "files.download(\"weighted_scores.png\") "
      ],
      "metadata": {
        "colab": {
          "base_uri": "https://localhost:8080/",
          "height": 17
        },
        "id": "-XnBBv2v2iKS",
        "outputId": "563c292c-8322-4396-bb9f-60fbfa2e5cb8"
      },
      "execution_count": 37,
      "outputs": [
        {
          "output_type": "display_data",
          "data": {
            "text/plain": [
              "<IPython.core.display.Javascript object>"
            ],
            "application/javascript": [
              "\n",
              "    async function download(id, filename, size) {\n",
              "      if (!google.colab.kernel.accessAllowed) {\n",
              "        return;\n",
              "      }\n",
              "      const div = document.createElement('div');\n",
              "      const label = document.createElement('label');\n",
              "      label.textContent = `Downloading \"${filename}\": `;\n",
              "      div.appendChild(label);\n",
              "      const progress = document.createElement('progress');\n",
              "      progress.max = size;\n",
              "      div.appendChild(progress);\n",
              "      document.body.appendChild(div);\n",
              "\n",
              "      const buffers = [];\n",
              "      let downloaded = 0;\n",
              "\n",
              "      const channel = await google.colab.kernel.comms.open(id);\n",
              "      // Send a message to notify the kernel that we're ready.\n",
              "      channel.send({})\n",
              "\n",
              "      for await (const message of channel.messages) {\n",
              "        // Send a message to notify the kernel that we're ready.\n",
              "        channel.send({})\n",
              "        if (message.buffers) {\n",
              "          for (const buffer of message.buffers) {\n",
              "            buffers.push(buffer);\n",
              "            downloaded += buffer.byteLength;\n",
              "            progress.value = downloaded;\n",
              "          }\n",
              "        }\n",
              "      }\n",
              "      const blob = new Blob(buffers, {type: 'application/binary'});\n",
              "      const a = document.createElement('a');\n",
              "      a.href = window.URL.createObjectURL(blob);\n",
              "      a.download = filename;\n",
              "      div.appendChild(a);\n",
              "      a.click();\n",
              "      div.remove();\n",
              "    }\n",
              "  "
            ]
          },
          "metadata": {}
        },
        {
          "output_type": "display_data",
          "data": {
            "text/plain": [
              "<IPython.core.display.Javascript object>"
            ],
            "application/javascript": [
              "download(\"download_1f1239e2-bf8e-4cbe-8ac7-b56c7dd3c94c\", \"weighted_scores.png\", 93422)"
            ]
          },
          "metadata": {}
        }
      ]
    }
  ]
}