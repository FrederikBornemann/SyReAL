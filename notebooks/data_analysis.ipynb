{
 "cells": [
  {
   "cell_type": "markdown",
   "metadata": {},
   "source": [
    "# Data Analysis"
   ]
  },
  {
   "cell_type": "markdown",
   "metadata": {},
   "source": [
    "## Importing Libraries and Data"
   ]
  },
  {
   "cell_type": "code",
   "execution_count": 3,
   "metadata": {},
   "outputs": [],
   "source": [
    "import numpy as np\n",
    "import pandas as pd\n",
    "import matplotlib.pyplot as plt\n",
    "import seaborn as sns\n",
    "import os"
   ]
  },
  {
   "cell_type": "code",
   "execution_count": 6,
   "metadata": {},
   "outputs": [
    {
     "data": {
      "text/html": [
       "<div>\n",
       "<style scoped>\n",
       "    .dataframe tbody tr th:only-of-type {\n",
       "        vertical-align: middle;\n",
       "    }\n",
       "\n",
       "    .dataframe tbody tr th {\n",
       "        vertical-align: top;\n",
       "    }\n",
       "\n",
       "    .dataframe thead th {\n",
       "        text-align: right;\n",
       "    }\n",
       "</style>\n",
       "<table border=\"1\" class=\"dataframe\">\n",
       "  <thead>\n",
       "    <tr style=\"text-align: right;\">\n",
       "      <th></th>\n",
       "      <th>random</th>\n",
       "      <th>combinatory</th>\n",
       "      <th>std</th>\n",
       "      <th>complexity-std</th>\n",
       "      <th>loss-std</th>\n",
       "      <th>true-confusion</th>\n",
       "      <th>formula</th>\n",
       "    </tr>\n",
       "    <tr>\n",
       "      <th>Equation</th>\n",
       "      <th></th>\n",
       "      <th></th>\n",
       "      <th></th>\n",
       "      <th></th>\n",
       "      <th></th>\n",
       "      <th></th>\n",
       "      <th></th>\n",
       "    </tr>\n",
       "  </thead>\n",
       "  <tbody>\n",
       "    <tr>\n",
       "      <th>II.11.17</th>\n",
       "      <td>[ 7. 21. 15. 17. 21. 43. 41. 25. 14. 25. 11. 2...</td>\n",
       "      <td>[30. 35. 50. 28. 26. 25. 37. 31. 27. 38. 48. 3...</td>\n",
       "      <td>[22. 13. 17. 12. 13. 16. 12. 11. 14. 13. 17. 2...</td>\n",
       "      <td>[10. 18. 19. 11. 17. 19. 10. 19. 18.  6. 18. 1...</td>\n",
       "      <td>[16. 16. 20. 16. 14. 14. 14. 16. 16. 19.  7. 1...</td>\n",
       "      <td>[10. 10. 10.  8. 10. 11.  8.  9. 12.  7. 12. 1...</td>\n",
       "      <td>n_0*(1+p_d*Ef*cos(theta)/(kb*T))</td>\n",
       "    </tr>\n",
       "    <tr>\n",
       "      <th>I.24.6</th>\n",
       "      <td>[ nan  26. 115.  nan  nan  78.  nan  nan  nan ...</td>\n",
       "      <td>[169.  29.  49.  93. 158. 227. 292.  43.  56. ...</td>\n",
       "      <td>[254.  84. 178. 166.  73. 197.  19. 135. 180. ...</td>\n",
       "      <td>[ 27. 136.  94. 102. 104. 127.  98.  18.  11. ...</td>\n",
       "      <td>[ 95.  92.  95.  95.  93.  99.  95. 163.  55. ...</td>\n",
       "      <td>[ 69.  71.  80.  63.  24.  47.  60. 110.  nan ...</td>\n",
       "      <td>1/2*m*(omega**2+omega_0**2)*1/2*x**2</td>\n",
       "    </tr>\n",
       "    <tr>\n",
       "      <th>II.11.20</th>\n",
       "      <td>[27. 15. 34. 26. 20. 13. 18. 23. 15. 25. 25. 1...</td>\n",
       "      <td>[16. 16. 15. 15.  9. 18. 21. 13. 21. 13. 15. 1...</td>\n",
       "      <td>[17.  9. 18. 18. 12. 17. 14. 13.  7. 13. 12. 1...</td>\n",
       "      <td>[  8.   8.  13.  93. 108. 105. 113. 150.  90. ...</td>\n",
       "      <td>[11. 15. 14. 12. 17. 15. 17. 15. 15. 13. 15. 1...</td>\n",
       "      <td>[14. 11. 10.  9. 10. 10. 13. 14.  9. 14. 10. 1...</td>\n",
       "      <td>n_rho*p_d**2*Ef/(3*kb*T)</td>\n",
       "    </tr>\n",
       "    <tr>\n",
       "      <th>III.13.18</th>\n",
       "      <td>[15. 30.  8.  7. 29. 10. 10. 11. 11. 13. nan 1...</td>\n",
       "      <td>[ 5.  9. 16. 16.  7. 13. 10. 16. 12. 16. 11.  ...</td>\n",
       "      <td>[ 6. 13. 16. 10. 11. 10.  9.  8.  8. 10. 13. 1...</td>\n",
       "      <td>[ 5.  9.  7. 11. 15.  8. 17.  9. 13. 19. 10. 1...</td>\n",
       "      <td>[17. 16.  9. 13. 22. 10. 15.  9.  7. 12.  9. 1...</td>\n",
       "      <td>[ 8.  8.  9.  8. 10. 10.  8.  7.  8. 11. 11. 1...</td>\n",
       "      <td>2*E_n*d**2*k/(h/(2*pi))</td>\n",
       "    </tr>\n",
       "    <tr>\n",
       "      <th>I.13.4</th>\n",
       "      <td>[ 39.  17.  59. 205.  32.  51. 112. 265. 280. ...</td>\n",
       "      <td>[ 50.   9.  16.  21.  12.  25.  44.  48.  41. ...</td>\n",
       "      <td>[21. 45. 27. 54. 18. 24. 34. 39. 74. 27. 49. 3...</td>\n",
       "      <td>[ 18.  58.  18.  42.  32.  14. 144.  28.  43. ...</td>\n",
       "      <td>[ 97.  23.  23.  96.  94.  90.  87.  34.  78. ...</td>\n",
       "      <td>[26. 27. 15. 24. 32. 10. 28. 17. 30. 21. 38. 2...</td>\n",
       "      <td>1/2*m*(v**2+u**2+w**2)</td>\n",
       "    </tr>\n",
       "  </tbody>\n",
       "</table>\n",
       "</div>"
      ],
      "text/plain": [
       "                                                      random  \\\n",
       "Equation                                                       \n",
       "II.11.17   [ 7. 21. 15. 17. 21. 43. 41. 25. 14. 25. 11. 2...   \n",
       "I.24.6     [ nan  26. 115.  nan  nan  78.  nan  nan  nan ...   \n",
       "II.11.20   [27. 15. 34. 26. 20. 13. 18. 23. 15. 25. 25. 1...   \n",
       "III.13.18  [15. 30.  8.  7. 29. 10. 10. 11. 11. 13. nan 1...   \n",
       "I.13.4     [ 39.  17.  59. 205.  32.  51. 112. 265. 280. ...   \n",
       "\n",
       "                                                 combinatory  \\\n",
       "Equation                                                       \n",
       "II.11.17   [30. 35. 50. 28. 26. 25. 37. 31. 27. 38. 48. 3...   \n",
       "I.24.6     [169.  29.  49.  93. 158. 227. 292.  43.  56. ...   \n",
       "II.11.20   [16. 16. 15. 15.  9. 18. 21. 13. 21. 13. 15. 1...   \n",
       "III.13.18  [ 5.  9. 16. 16.  7. 13. 10. 16. 12. 16. 11.  ...   \n",
       "I.13.4     [ 50.   9.  16.  21.  12.  25.  44.  48.  41. ...   \n",
       "\n",
       "                                                         std  \\\n",
       "Equation                                                       \n",
       "II.11.17   [22. 13. 17. 12. 13. 16. 12. 11. 14. 13. 17. 2...   \n",
       "I.24.6     [254.  84. 178. 166.  73. 197.  19. 135. 180. ...   \n",
       "II.11.20   [17.  9. 18. 18. 12. 17. 14. 13.  7. 13. 12. 1...   \n",
       "III.13.18  [ 6. 13. 16. 10. 11. 10.  9.  8.  8. 10. 13. 1...   \n",
       "I.13.4     [21. 45. 27. 54. 18. 24. 34. 39. 74. 27. 49. 3...   \n",
       "\n",
       "                                              complexity-std  \\\n",
       "Equation                                                       \n",
       "II.11.17   [10. 18. 19. 11. 17. 19. 10. 19. 18.  6. 18. 1...   \n",
       "I.24.6     [ 27. 136.  94. 102. 104. 127.  98.  18.  11. ...   \n",
       "II.11.20   [  8.   8.  13.  93. 108. 105. 113. 150.  90. ...   \n",
       "III.13.18  [ 5.  9.  7. 11. 15.  8. 17.  9. 13. 19. 10. 1...   \n",
       "I.13.4     [ 18.  58.  18.  42.  32.  14. 144.  28.  43. ...   \n",
       "\n",
       "                                                    loss-std  \\\n",
       "Equation                                                       \n",
       "II.11.17   [16. 16. 20. 16. 14. 14. 14. 16. 16. 19.  7. 1...   \n",
       "I.24.6     [ 95.  92.  95.  95.  93.  99.  95. 163.  55. ...   \n",
       "II.11.20   [11. 15. 14. 12. 17. 15. 17. 15. 15. 13. 15. 1...   \n",
       "III.13.18  [17. 16.  9. 13. 22. 10. 15.  9.  7. 12.  9. 1...   \n",
       "I.13.4     [ 97.  23.  23.  96.  94.  90.  87.  34.  78. ...   \n",
       "\n",
       "                                              true-confusion  \\\n",
       "Equation                                                       \n",
       "II.11.17   [10. 10. 10.  8. 10. 11.  8.  9. 12.  7. 12. 1...   \n",
       "I.24.6     [ 69.  71.  80.  63.  24.  47.  60. 110.  nan ...   \n",
       "II.11.20   [14. 11. 10.  9. 10. 10. 13. 14.  9. 14. 10. 1...   \n",
       "III.13.18  [ 8.  8.  9.  8. 10. 10.  8.  7.  8. 11. 11. 1...   \n",
       "I.13.4     [26. 27. 15. 24. 32. 10. 28. 17. 30. 21. 38. 2...   \n",
       "\n",
       "                                        formula  \n",
       "Equation                                         \n",
       "II.11.17       n_0*(1+p_d*Ef*cos(theta)/(kb*T))  \n",
       "I.24.6     1/2*m*(omega**2+omega_0**2)*1/2*x**2  \n",
       "II.11.20               n_rho*p_d**2*Ef/(3*kb*T)  \n",
       "III.13.18               2*E_n*d**2*k/(h/(2*pi))  \n",
       "I.13.4                   1/2*m*(v**2+u**2+w**2)  "
      ]
     },
     "execution_count": 6,
     "metadata": {},
     "output_type": "execute_result"
    }
   ],
   "source": [
    "# read the csv file into a pandas dataframe\n",
    "summary_df = pd.read_csv('../data/summary_df.csv', index_col=0)\n",
    "\n",
    "# check the first 5 rows of the dataframe\n",
    "summary_df.head()"
   ]
  },
  {
   "cell_type": "markdown",
   "metadata": {},
   "source": [
    "## Data Transformation & Cleaning"
   ]
  },
  {
   "cell_type": "code",
   "execution_count": 37,
   "metadata": {},
   "outputs": [],
   "source": [
    "def str_to_list(string):\n",
    "    \"\"\"Convert a string to a list of floats. Replace 'nan' with np.nan. Return a numpy array.\"\"\"\n",
    "    string = str(string).replace('[', '').replace(']', '').replace('\\n',' ').split(' ')\n",
    "    string = [x for x in string if x != '']\n",
    "    string = [float(i) for i in string]\n",
    "    # replace nan with np.nan\n",
    "    string = [np.nan if x == 'nan' else x for x in string]\n",
    "    # convert to numpy array\n",
    "    string = np.array(string)\n",
    "    return string"
   ]
  },
  {
   "cell_type": "code",
   "execution_count": 45,
   "metadata": {},
   "outputs": [],
   "source": [
    "# convert all columns to list\n",
    "for col in summary_df.columns[:-1]:\n",
    "    summary_df[col] = summary_df[col].apply(str_to_list)"
   ]
  },
  {
   "cell_type": "code",
   "execution_count": 51,
   "metadata": {},
   "outputs": [
    {
     "name": "stdout",
     "output_type": "stream",
     "text": [
      "          random  combinatory  std  complexity-std  loss-std  true-confusion  \\\n",
      "Equation                                                                       \n",
      "I.24.6        42           98  100              44        12              90   \n",
      "II.35.18      94          100   99              84        48              97   \n",
      "II.21.32      93           17   36              19        25               1   \n",
      "I.50.26        1            1    1               1        59              63   \n",
      "\n",
      "                                             formula  \n",
      "Equation                                              \n",
      "I.24.6          1/2*m*(omega**2+omega_0**2)*1/2*x**2  \n",
      "II.35.18  n_0/(exp(mom*B/(kb*T))+exp(-mom*B/(kb*T)))  \n",
      "II.21.32                  q/(4*pi*epsilon*r*(1-v/c))  \n",
      "I.50.26      x1*(cos(omega*t)+alpha*cos(omega*t)**2)  \n"
     ]
    }
   ],
   "source": [
    "# make a new dataframe with the length of each list\n",
    "summary_df_len = summary_df.copy()\n",
    "for col in summary_df_len.columns[:-1]:\n",
    "    summary_df_len[col] = summary_df_len[col].apply(len)\n",
    "\n",
    "# Define the columns to check\n",
    "columns_to_check = ['random', 'combinatory','std','complexity-std','loss-std','true-confusion']\t\n",
    "threshold_value = 50\n",
    "\n",
    "# Filter and print rows where at least one element in the specified columns is less than the threshold\n",
    "filtered_rows = summary_df_len[(summary_df_len[columns_to_check] < threshold_value).any(axis=1)]\n",
    "print(filtered_rows)"
   ]
  },
  {
   "cell_type": "code",
   "execution_count": null,
   "metadata": {},
   "outputs": [],
   "source": []
  }
 ],
 "metadata": {
  "kernelspec": {
   "display_name": "Python 3",
   "language": "python",
   "name": "python3"
  },
  "language_info": {
   "codemirror_mode": {
    "name": "ipython",
    "version": 3
   },
   "file_extension": ".py",
   "mimetype": "text/x-python",
   "name": "python",
   "nbconvert_exporter": "python",
   "pygments_lexer": "ipython3",
   "version": "3.10.13"
  }
 },
 "nbformat": 4,
 "nbformat_minor": 2
}
