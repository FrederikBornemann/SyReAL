{
 "cells": [
  {
   "cell_type": "code",
   "execution_count": null,
   "metadata": {},
   "outputs": [
    {
     "ename": "",
     "evalue": "",
     "output_type": "error",
     "traceback": [
      "\u001b[1;31mFailed to start the Kernel. \n",
      "\u001b[1;31mUnable to start Kernel 'MyPySR_3.10 (Python 3.10.6)' due to a timeout waiting for the ports to get used. \n",
      "\u001b[1;31mView Jupyter <a href='command:jupyter.viewOutput'>log</a> for further details."
     ]
    }
   ],
   "source": [
    "# import libaries\n",
    "\n",
    "import numpy as np\n",
    "import matplotlib\n",
    "matplotlib.use('Agg')\n",
    "import matplotlib.pyplot as plt\n",
    "import pandas as pd\n",
    "import seaborn as sns\n",
    "import pysr\n",
    "from sympy import *\n",
    "\n",
    "%matplotlib inline"
   ]
  },
  {
   "cell_type": "code",
   "execution_count": null,
   "metadata": {},
   "outputs": [
    {
     "ename": "",
     "evalue": "",
     "output_type": "error",
     "traceback": [
      "\u001b[1;31mFailed to start the Kernel. \n",
      "\u001b[1;31mUnable to start Kernel 'MyPySR_3.10 (Python 3.10.6)' due to a timeout waiting for the ports to get used. \n",
      "\u001b[1;31mView Jupyter <a href='command:jupyter.viewOutput'>log</a> for further details."
     ]
    }
   ],
   "source": [
    "# import pysr model from pickle file \"pysr_model.pkl\"\n",
    "import pickle\n",
    "with open('pysr_model.pkl', 'rb') as f:\n",
    "    model = pickle.load(f)"
   ]
  },
  {
   "cell_type": "code",
   "execution_count": 3,
   "metadata": {},
   "outputs": [
    {
     "name": "stdout",
     "output_type": "stream",
     "text": [
      "0                                            -2.7524877\n",
      "1                                      (-3.984053 + x0)\n",
      "2                                  (cos(x0) * -9.57324)\n",
      "3                           (sin(cos(x0)) * -10.162861)\n",
      "4                    (sin(x0 * 2.0796967) * -6.0662985)\n",
      "5             (sin(x0 * 2.1036406) * (-7.1949797 + x0))\n",
      "6         ((exp(sin(x0 + x0)) * -4.638474) + 5.9488344)\n",
      "7     ((sin((0.9491806 + x0) * x0) * -5.2589025) + -...\n",
      "8     (sin(x0 * (0.78438604 + x0)) * (-7.017297 + (x...\n",
      "9     ((sin(x0 * (0.78438604 + x0)) * (-7.017297 + (...\n",
      "10    (sin(x0 * (x0 + cos(cos(-5.441252)))) * (-6.93...\n",
      "11    (sin(x0 * (0.78438604 + x0)) * ((-7.017297 + (...\n",
      "12    (sin(x0 * (x0 + cos(cos(sin(sin(x0 + 0.3875205...\n",
      "13    (sin(x0 * ((x0 * 0.96004725) + cos(cos(sin(x0 ...\n",
      "Name: equation, dtype: object\n"
     ]
    }
   ],
   "source": [
    "print(model.equations_.equation)"
   ]
  },
  {
   "cell_type": "code",
   "execution_count": null,
   "metadata": {},
   "outputs": [
    {
     "ename": "",
     "evalue": "",
     "output_type": "error",
     "traceback": [
      "\u001b[1;31mFailed to start the Kernel. \n",
      "\u001b[1;31mUnable to start Kernel 'MyPySR_3.10 (Python 3.10.6)' due to a timeout waiting for the ports to get used. \n",
      "\u001b[1;31mView Jupyter <a href='command:jupyter.viewOutput'>log</a> for further details."
     ]
    }
   ],
   "source": [
    "# change matplotlib properties to make it look better\n",
    "# Set font sizes for different plot elements\n",
    "plt.rc('font', size=16)          # Base font size for text elements\n",
    "plt.rc('axes', titlesize=18)     # Title font size\n",
    "plt.rc('axes', labelsize=16)     # Axis label font size\n",
    "plt.rc('xtick', labelsize=14)    # X-axis tick label font size\n",
    "plt.rc('ytick', labelsize=14)    # Y-axis tick label font size\n",
    "plt.rc('legend', fontsize=14)    # Legend font size\n",
    "# Set line widths for different plot elements\n",
    "plt.rc('axes', linewidth=1.5)    # Width of axis lines\n",
    "plt.rc('lines', linewidth=3)     # Width of plot lines\n",
    "plt.rc('lines', markersize=8)    # Size of plot markers\n",
    "plt.rc('xtick.major', width=1.5) # Width of tick mark lines\n",
    "plt.rcParams[\"text.usetex\"] = False\n"
   ]
  },
  {
   "cell_type": "code",
   "execution_count": null,
   "metadata": {},
   "outputs": [
    {
     "ename": "",
     "evalue": "",
     "output_type": "error",
     "traceback": [
      "\u001b[1;31mFailed to start the Kernel. \n",
      "\u001b[1;31mUnable to start Kernel 'MyPySR_3.10 (Python 3.10.6)' due to a timeout waiting for the ports to get used. \n",
      "\u001b[1;31mView Jupyter <a href='command:jupyter.viewOutput'>log</a> for further details."
     ]
    }
   ],
   "source": [
    "# Dataset\n",
    "N = 10\n",
    "np.random.seed(0)\n",
    "X = np.random.uniform(0, 2, size=(N, 1))\n",
    "y = 5 * np.cos(3.5 * X) - 1.3\n",
    "\n",
    "# generate data set\n",
    "X_big = np.linspace(0, 2, 1000).reshape(-1, 1)\n",
    "\n",
    "# plot the pareto front on the left plot and the equations on the right plot and the equations in the middle plot\n",
    "fig, (ax1, ax3) = plt.subplots(1, 2, figsize=(10, 5))\n",
    "ax3.scatter(X, y, label='labeled data', color='k', zorder=10, marker='x', s=60)\n",
    "for i in range(len(model.equations)):\n",
    "    if i > 5:\n",
    "        break\n",
    "    ax3.plot(X_big, model.predict(X_big, i).reshape(-1, 1), zorder=(5 if i == np.argmax(model.equations_.score) else 0))\n",
    "# plot pareto front for the first 6 equations\n",
    "complexities = model.equations_.complexity[0:6]\n",
    "losses = model.equations_.loss[0:6]\n",
    "# plot pareto front with \"parsimony\" on the x-axis (-complexity) and \"accuracy\" on the y-axis (-log(loss))\n",
    "# color the points according to the order in which they were added to the pareto front\n",
    "# use same color scheme as in the right plot\n",
    "colors = [plt.cm.tab10(i) for i in np.arange(len(losses))]\n",
    "ax1.step(-complexities, -np.log(losses), c='k', where='post')\n",
    "# add white outline to the points\n",
    "ax1.scatter(-complexities, -np.log(losses), c=colors, zorder=10, s=150, edgecolor='white', linewidth=3)\n",
    "# draw a vertical line trough the point with the highest score\n",
    "#ax1.axvline(-complexities[np.argmax(model.equations_.score)], c='r', ls='--', label='best candidate')\n",
    "# draw a arrow to the point with the highest score\n",
    "ax1.annotate('best candidate', (-complexities[np.argmax(model.equations_.score)]+0.05,\n",
    "                                 -np.log(losses[np.argmax(model.equations_.score)]-0.05)),\n",
    "             xytext=(-complexities[np.argmax(model.equations_.score)]+0.1,\n",
    "                      -np.log(losses[np.argmax(model.equations_.score)]-0.30)),\n",
    "             arrowprops=dict(facecolor='black', shrink=0.0, width=1, headwidth=10, edgecolor='black'),\n",
    "             zorder=10,\n",
    "             )\n",
    "\n",
    "\n",
    "\n",
    "ax1.set_xlabel('parsimony [-complexity]')\n",
    "ax1.set_ylabel('accuracy [-log(loss)]')\n",
    "ax1.set_title('Pareto front')\n",
    "#ax1.legend()\n",
    "ax3.set_xlabel('x')\n",
    "ax3.set_ylabel('y')\n",
    "ax3.set_title('Pareto front equations plotted')\n",
    "ax3.legend()\n",
    "#plt.legend()\n",
    "plt.tight_layout(pad=0.0)\n",
    "plt.show()\n",
    "\n",
    "# get current figure and save it\n",
    "# no transparency\n",
    "#fig = plt.gcf()\n",
    "fig.savefig('plots/pareto_front_example.jpg', dpi=100, bbox_inches='tight', pad_inches=0.0, transparent=False)\n",
    "\n",
    "\n",
    "# round the constants of the equations to 2 decimal places\n",
    "# use sympy to parse the equations\n",
    "\n",
    "# for a in preorder_traversal(ex1):\n",
    "#   if isinstance(a, Float):\n",
    "#       ex2 = ex2.subs(a, round(a, 1))\n",
    "\n",
    "# eqs = [sympy.sympify(eq) for eq in model.equations_.equation[0:6]]\n",
    "# rounded_expr = []\n",
    "# for eq in eqs:\n",
    "#     for a in preorder_traversal(eq):\n",
    "#         if isinstance(a, Float):\n",
    "#             eq = eq.subs(a, round(a, 1))\n",
    "#     rounded_expr.append(sympy.latex(eq))\n",
    "\n",
    "\n",
    "# # write the equations in the middle plot with their respective color\n",
    "# for i in range(len(model.equations)):\n",
    "#     if i > 5:\n",
    "#         break\n",
    "#     # show as latex\n",
    "#     ax2.text(0.5, 0.95-i*0.1, rounded_expr[i], fontsize=12, color=colors[i])\n",
    "# print(eqs)\n",
    "# print(rounded_expr)"
   ]
  },
  {
   "cell_type": "markdown",
   "metadata": {},
   "source": [
    "## Pareto front: Score"
   ]
  },
  {
   "cell_type": "code",
   "execution_count": null,
   "metadata": {},
   "outputs": [
    {
     "ename": "",
     "evalue": "",
     "output_type": "error",
     "traceback": [
      "\u001b[1;31mFailed to start the Kernel. \n",
      "\u001b[1;31mUnable to start Kernel 'MyPySR_3.10 (Python 3.10.6)' due to a timeout waiting for the ports to get used. \n",
      "\u001b[1;31mView Jupyter <a href='command:jupyter.viewOutput'>log</a> for further details."
     ]
    }
   ],
   "source": [
    "print(model)"
   ]
  },
  {
   "cell_type": "code",
   "execution_count": null,
   "metadata": {},
   "outputs": [
    {
     "ename": "",
     "evalue": "",
     "output_type": "error",
     "traceback": [
      "\u001b[1;31mFailed to start the Kernel. \n",
      "\u001b[1;31mUnable to start Kernel 'MyPySR_3.10 (Python 3.10.6)' due to a timeout waiting for the ports to get used. \n",
      "\u001b[1;31mView Jupyter <a href='command:jupyter.viewOutput'>log</a> for further details."
     ]
    }
   ],
   "source": [
    "# the score S of an equation is given by S=-(\\Delta log(loss)/\\Delta complexity). The Delta is calculated by subtracting it from the previous value.\n",
    "\n",
    "complexities = model.equations_.complexity[0:6]\n",
    "losses = model.equations_.loss[0:6]\n",
    "\n",
    "\n",
    "\n",
    "s_scores = []\n",
    "\n",
    "for i in range(1, len(losses)):\n",
    "    d_losses = np.log(losses[i]/losses[i-1])\n",
    "    d_complexities = complexities[i] - complexities[i-1]\n",
    "    score = -d_losses/d_complexities\n",
    "    s_scores.append(score)\n",
    "\n",
    "s_scores = np.array(s_scores)\n",
    "\n",
    "# plot pareto front with slopes between points\n",
    "plt.figure(figsize=(7,7))\n",
    "\n",
    "colors = [plt.cm.tab10(i) for i in np.arange(len(losses))]\n",
    "plt.step(-complexities, -np.log(losses), c='k', where='post')\n",
    "# add white outline to the points\n",
    "plt.scatter(-complexities, -np.log(losses), c=colors, zorder=10, s=150, edgecolor='white', linewidth=3)\n",
    "\n",
    "# transform the array complexities to - complexities\n",
    "complexities = -complexities\n",
    "losses = -np.log(losses)\n",
    "\n",
    "# plot slopes between points\n",
    "for i in range(len(s_scores)):\n",
    "    plt.plot([complexities[i], complexities[i+1]], [losses[i], losses[i+1]], color='grey', linestyle='solid', label='Slope (S)')\n",
    "    plt.text(complexities[i+1]+0.15, losses[i+1]+0.05, str(round(s_scores[i], 2)), color='black' if s_scores[i] != np.max(s_scores) else 'red', fontsize=16)\n",
    "\n",
    "# color the highest slope red\n",
    "plt.plot([complexities[1], complexities[2]], [losses[1], losses[2]], color='red', linestyle='solid')\n",
    "\n",
    "# add text in plot explaining the slopes as the score in latex\n",
    "plt.text(0.05, 0.5, r'$S = -\\frac{\\Delta log(loss)}{\\Delta complexity}$', fontsize=24, transform=plt.gca().transAxes, bbox=dict(facecolor='white', alpha=0.5))\n",
    "\n",
    "# remove all but one legend entry\n",
    "handles, labels = plt.gca().get_legend_handles_labels()\n",
    "by_label = dict(zip(labels, handles))\n",
    "plt.legend(by_label.values(), ['Slope (-S)'], loc='upper right', fontsize=16)\n",
    "\n",
    "plt.xlabel('parsimony [-complexity]')\n",
    "plt.ylabel('accuracy [-log(loss)]')\n",
    "\n",
    "plt.title('Pareto front with slopes between points')\n",
    "plt.tight_layout()\n",
    "\n",
    "# save figure\n",
    "plt.savefig('plots/pareto_front_slope.jpg', dpi=100, bbox_inches='tight')"
   ]
  },
  {
   "cell_type": "markdown",
   "metadata": {},
   "source": [
    "## MoD: all vs best"
   ]
  },
  {
   "cell_type": "code",
   "execution_count": null,
   "metadata": {},
   "outputs": [
    {
     "ename": "",
     "evalue": "",
     "output_type": "error",
     "traceback": [
      "\u001b[1;31mFailed to start the Kernel. \n",
      "\u001b[1;31mUnable to start Kernel 'MyPySR_3.10 (Python 3.10.6)' due to a timeout waiting for the ports to get used. \n",
      "\u001b[1;31mView Jupyter <a href='command:jupyter.viewOutput'>log</a> for further details."
     ]
    }
   ],
   "source": [
    "from matplotlib.lines import Line2D\n",
    "# calculate the std of all predictions for every value of X_big\n",
    "y_pred_all = np.array([model.predict(X_big, i) for i in range(len(model.equations[:6]))])\n",
    "# cut the equations up to the equation with the best score\n",
    "y_pred_cut = y_pred_all[np.argmax(model.equations_.score):6, :]\n",
    "y_pred_std_all = np.std(y_pred_all, axis=0)\n",
    "y_pred_std_cut = np.std(y_pred_cut, axis=0)\n",
    "\n",
    "# calculate the true values for every value of X_big. y=5*cos(3.5*x) - 1.3\n",
    "true_y = 5 * np.cos(3.5 * X_big) - 1.3\n",
    "\n",
    "# Create a figure with two rows and two columns of subplots\n",
    "fig, axes = plt.subplots(2, 2, figsize=(10, 5), sharex=True, sharey=False, gridspec_kw={'height_ratios': [3, 1]})\n",
    "\n",
    "# Plot data on the top-left subplot\n",
    "for i in range(y_pred_all.shape[0]):\n",
    "    axes[0, 0].plot(X_big, y_pred_all[i, :], color='grey', alpha=0.5)\n",
    "axes[0, 0].scatter(X, y, color='black', label='Labeled data', zorder=10)\n",
    "axes[0, 0].plot(X_big, true_y, color='red', label='True Equation')\n",
    "axes[0, 0].set_ylabel('y')\n",
    "\n",
    "# Manually create a dummy gray line for the legend\n",
    "dummy_line = Line2D([0], [0], color='gray', label='Committee')\n",
    "\n",
    "handles, labels = axes[0, 0].get_legend_handles_labels()\n",
    "# Add the dummy line to the legend with the other lines\n",
    "handles.append(dummy_line)\n",
    "labels.append('Committee')\n",
    "axes[0, 0].legend(handles, labels, fontsize=12)\n",
    "\n",
    "\n",
    "#axes[0, 0].legend()\n",
    "axes[0, 0].set_title('All Equations (Plot + MoD)')\n",
    "\n",
    "# Plot data on the top-right subplot\n",
    "for i in range(y_pred_cut.shape[0]):\n",
    "    axes[0, 1].plot(X_big, y_pred_cut[i, :], color='grey', alpha=0.5)\n",
    "axes[0, 1].scatter(X, y, color='black', label='Labeled data', zorder=10)\n",
    "axes[0, 1].plot(X_big, true_y, color='red', label='True Equation')\n",
    "axes[0, 1].set_ylabel('')\n",
    "handles, labels = axes[0, 1].get_legend_handles_labels()\n",
    "# Add the dummy line to the legend with the other lines\n",
    "handles.append(dummy_line)\n",
    "labels.append('Committee')\n",
    "axes[0, 1].legend(handles, labels, fontsize=12)\n",
    "axes[0, 1].set_title('Best Equations (Plot + MoD)')\n",
    "\n",
    "# Plot data on the bottom-left subplot\n",
    "axes[1, 0].plot(X_big, y_pred_std_all, label='MoD')\n",
    "axes[1, 0].set_xlabel('x')\n",
    "axes[1, 0].set_yticks([])\n",
    "axes[1, 0].set_ylabel('')\n",
    "axes[1, 0].legend()\n",
    "\n",
    "# Plot data on the bottom-right subplot\n",
    "axes[1, 1].plot(X_big, y_pred_std_cut, label='MoD')\n",
    "axes[1, 1].set_xlabel('x')\n",
    "# not y ticks and labels\n",
    "axes[1, 1].set_yticks([])\n",
    "axes[1, 1].set_ylabel('')\n",
    "axes[1, 1].legend()\n",
    "\n",
    "# Adjust layout to make the plots touch and avoid overlapping ticks\n",
    "plt.tight_layout()\n",
    "fig.subplots_adjust(hspace=0, wspace=0.2)\n",
    "\n",
    "\n",
    "# Display the plot\n",
    "plt.show()\n",
    "plt.draw()\n",
    "\n",
    "# Save the plot\n",
    "#fig = plt.gcf()\n",
    "fig.savefig('plots/MoD_all_vs_best.jpg', dpi=100, bbox_inches='tight', pad_inches=0.0, transparent=False)\n"
   ]
  },
  {
   "cell_type": "markdown",
   "metadata": {},
   "source": [
    "## QBC: 4 steps plot"
   ]
  },
  {
   "cell_type": "code",
   "execution_count": 82,
   "metadata": {},
   "outputs": [
    {
     "name": "stdout",
     "output_type": "stream",
     "text": [
      "max_mod_cut:  [0.]\n"
     ]
    }
   ],
   "source": [
    "# calculate the x value of the maximum of the MoD\n",
    "\n",
    "max_mod = X_big[np.argmax(y_pred_std_cut)]\n",
    "\n",
    "print('max_mod_cut: ', max_mod)"
   ]
  },
  {
   "cell_type": "code",
   "execution_count": 103,
   "metadata": {},
   "outputs": [],
   "source": []
  },
  {
   "cell_type": "code",
   "execution_count": 121,
   "metadata": {},
   "outputs": [
    {
     "name": "stdout",
     "output_type": "stream",
     "text": [
      "0    0.000000\n",
      "1    0.493241\n",
      "2    2.308598\n",
      "3         inf\n",
      "Name: score, dtype: float64\n",
      "(2, 1000)\n"
     ]
    },
    {
     "name": "stderr",
     "output_type": "stream",
     "text": [
      "/beegfs/desy/user/bornemaf/conda/envs/PySR/lib/python3.10/site-packages/pysr/sr.py:1186: FutureWarning: PySRRegressor.equations is now deprecated. Please use PySRRegressor.equations_ instead.\n",
      "  warnings.warn(\n"
     ]
    },
    {
     "ename": "ValueError",
     "evalue": "x and y must have same first dimension, but have shapes (1000, 1) and (2, 1000)",
     "output_type": "error",
     "traceback": [
      "\u001b[0;31m---------------------------------------------------------------------------\u001b[0m",
      "\u001b[0;31mValueError\u001b[0m                                Traceback (most recent call last)",
      "\u001b[1;32m/beegfs/desy/user/bornemaf/data/SyReAL/notebooks/pareto_front_example.ipynb Cell 11\u001b[0m in \u001b[0;36m<cell line: 17>\u001b[0;34m()\u001b[0m\n\u001b[1;32m     <a href='vscode-notebook-cell://ssh-remote%2Bmax-wgs/beegfs/desy/user/bornemaf/data/SyReAL/notebooks/pareto_front_example.ipynb#X14sdnNjb2RlLXJlbW90ZQ%3D%3D?line=12'>13</a>\u001b[0m y_pred_std_cut \u001b[39m=\u001b[39m np\u001b[39m.\u001b[39mstd(y_pred_cut, axis\u001b[39m=\u001b[39m\u001b[39m0\u001b[39m)\n\u001b[1;32m     <a href='vscode-notebook-cell://ssh-remote%2Bmax-wgs/beegfs/desy/user/bornemaf/data/SyReAL/notebooks/pareto_front_example.ipynb#X14sdnNjb2RlLXJlbW90ZQ%3D%3D?line=14'>15</a>\u001b[0m \u001b[39m# plot the new mod\u001b[39;00m\n\u001b[1;32m     <a href='vscode-notebook-cell://ssh-remote%2Bmax-wgs/beegfs/desy/user/bornemaf/data/SyReAL/notebooks/pareto_front_example.ipynb#X14sdnNjb2RlLXJlbW90ZQ%3D%3D?line=15'>16</a>\u001b[0m \u001b[39m#plt.plot(X_big, y_pred_std_cut, label='new mod')\u001b[39;00m\n\u001b[0;32m---> <a href='vscode-notebook-cell://ssh-remote%2Bmax-wgs/beegfs/desy/user/bornemaf/data/SyReAL/notebooks/pareto_front_example.ipynb#X14sdnNjb2RlLXJlbW90ZQ%3D%3D?line=16'>17</a>\u001b[0m plt\u001b[39m.\u001b[39;49mplot(X_big, y_pred_cut, label\u001b[39m=\u001b[39;49m\u001b[39m'\u001b[39;49m\u001b[39mnew mod\u001b[39;49m\u001b[39m'\u001b[39;49m)\n\u001b[1;32m     <a href='vscode-notebook-cell://ssh-remote%2Bmax-wgs/beegfs/desy/user/bornemaf/data/SyReAL/notebooks/pareto_front_example.ipynb#X14sdnNjb2RlLXJlbW90ZQ%3D%3D?line=18'>19</a>\u001b[0m max_mod \u001b[39m=\u001b[39m X_big[np\u001b[39m.\u001b[39margmax(y_pred_std_cut)]\n\u001b[1;32m     <a href='vscode-notebook-cell://ssh-remote%2Bmax-wgs/beegfs/desy/user/bornemaf/data/SyReAL/notebooks/pareto_front_example.ipynb#X14sdnNjb2RlLXJlbW90ZQ%3D%3D?line=20'>21</a>\u001b[0m \u001b[39mprint\u001b[39m(\u001b[39m'\u001b[39m\u001b[39mmax_mod_cut: \u001b[39m\u001b[39m'\u001b[39m, max_mod)\n",
      "File \u001b[0;32m/beegfs/desy/user/bornemaf/conda/envs/PySR/lib/python3.10/site-packages/matplotlib/pyplot.py:2740\u001b[0m, in \u001b[0;36mplot\u001b[0;34m(scalex, scaley, data, *args, **kwargs)\u001b[0m\n\u001b[1;32m   2738\u001b[0m \u001b[39m@_copy_docstring_and_deprecators\u001b[39m(Axes\u001b[39m.\u001b[39mplot)\n\u001b[1;32m   2739\u001b[0m \u001b[39mdef\u001b[39;00m \u001b[39mplot\u001b[39m(\u001b[39m*\u001b[39margs, scalex\u001b[39m=\u001b[39m\u001b[39mTrue\u001b[39;00m, scaley\u001b[39m=\u001b[39m\u001b[39mTrue\u001b[39;00m, data\u001b[39m=\u001b[39m\u001b[39mNone\u001b[39;00m, \u001b[39m*\u001b[39m\u001b[39m*\u001b[39mkwargs):\n\u001b[0;32m-> 2740\u001b[0m     \u001b[39mreturn\u001b[39;00m gca()\u001b[39m.\u001b[39;49mplot(\n\u001b[1;32m   2741\u001b[0m         \u001b[39m*\u001b[39;49margs, scalex\u001b[39m=\u001b[39;49mscalex, scaley\u001b[39m=\u001b[39;49mscaley,\n\u001b[1;32m   2742\u001b[0m         \u001b[39m*\u001b[39;49m\u001b[39m*\u001b[39;49m({\u001b[39m\"\u001b[39;49m\u001b[39mdata\u001b[39;49m\u001b[39m\"\u001b[39;49m: data} \u001b[39mif\u001b[39;49;00m data \u001b[39mis\u001b[39;49;00m \u001b[39mnot\u001b[39;49;00m \u001b[39mNone\u001b[39;49;00m \u001b[39melse\u001b[39;49;00m {}), \u001b[39m*\u001b[39;49m\u001b[39m*\u001b[39;49mkwargs)\n",
      "File \u001b[0;32m/beegfs/desy/user/bornemaf/conda/envs/PySR/lib/python3.10/site-packages/matplotlib/axes/_axes.py:1662\u001b[0m, in \u001b[0;36mAxes.plot\u001b[0;34m(self, scalex, scaley, data, *args, **kwargs)\u001b[0m\n\u001b[1;32m   1419\u001b[0m \u001b[39m\"\"\"\u001b[39;00m\n\u001b[1;32m   1420\u001b[0m \u001b[39mPlot y versus x as lines and/or markers.\u001b[39;00m\n\u001b[1;32m   1421\u001b[0m \n\u001b[0;32m   (...)\u001b[0m\n\u001b[1;32m   1659\u001b[0m \u001b[39m(``'green'``) or hex strings (``'#008000'``).\u001b[39;00m\n\u001b[1;32m   1660\u001b[0m \u001b[39m\"\"\"\u001b[39;00m\n\u001b[1;32m   1661\u001b[0m kwargs \u001b[39m=\u001b[39m cbook\u001b[39m.\u001b[39mnormalize_kwargs(kwargs, mlines\u001b[39m.\u001b[39mLine2D)\n\u001b[0;32m-> 1662\u001b[0m lines \u001b[39m=\u001b[39m [\u001b[39m*\u001b[39m\u001b[39mself\u001b[39m\u001b[39m.\u001b[39m_get_lines(\u001b[39m*\u001b[39margs, data\u001b[39m=\u001b[39mdata, \u001b[39m*\u001b[39m\u001b[39m*\u001b[39mkwargs)]\n\u001b[1;32m   1663\u001b[0m \u001b[39mfor\u001b[39;00m line \u001b[39min\u001b[39;00m lines:\n\u001b[1;32m   1664\u001b[0m     \u001b[39mself\u001b[39m\u001b[39m.\u001b[39madd_line(line)\n",
      "File \u001b[0;32m/beegfs/desy/user/bornemaf/conda/envs/PySR/lib/python3.10/site-packages/matplotlib/axes/_base.py:311\u001b[0m, in \u001b[0;36m_process_plot_var_args.__call__\u001b[0;34m(self, data, *args, **kwargs)\u001b[0m\n\u001b[1;32m    309\u001b[0m     this \u001b[39m+\u001b[39m\u001b[39m=\u001b[39m args[\u001b[39m0\u001b[39m],\n\u001b[1;32m    310\u001b[0m     args \u001b[39m=\u001b[39m args[\u001b[39m1\u001b[39m:]\n\u001b[0;32m--> 311\u001b[0m \u001b[39myield from\u001b[39;00m \u001b[39mself\u001b[39;49m\u001b[39m.\u001b[39;49m_plot_args(\n\u001b[1;32m    312\u001b[0m     this, kwargs, ambiguous_fmt_datakey\u001b[39m=\u001b[39;49mambiguous_fmt_datakey)\n",
      "File \u001b[0;32m/beegfs/desy/user/bornemaf/conda/envs/PySR/lib/python3.10/site-packages/matplotlib/axes/_base.py:504\u001b[0m, in \u001b[0;36m_process_plot_var_args._plot_args\u001b[0;34m(self, tup, kwargs, return_kwargs, ambiguous_fmt_datakey)\u001b[0m\n\u001b[1;32m    501\u001b[0m     \u001b[39mself\u001b[39m\u001b[39m.\u001b[39maxes\u001b[39m.\u001b[39myaxis\u001b[39m.\u001b[39mupdate_units(y)\n\u001b[1;32m    503\u001b[0m \u001b[39mif\u001b[39;00m x\u001b[39m.\u001b[39mshape[\u001b[39m0\u001b[39m] \u001b[39m!=\u001b[39m y\u001b[39m.\u001b[39mshape[\u001b[39m0\u001b[39m]:\n\u001b[0;32m--> 504\u001b[0m     \u001b[39mraise\u001b[39;00m \u001b[39mValueError\u001b[39;00m(\u001b[39mf\u001b[39m\u001b[39m\"\u001b[39m\u001b[39mx and y must have same first dimension, but \u001b[39m\u001b[39m\"\u001b[39m\n\u001b[1;32m    505\u001b[0m                      \u001b[39mf\u001b[39m\u001b[39m\"\u001b[39m\u001b[39mhave shapes \u001b[39m\u001b[39m{\u001b[39;00mx\u001b[39m.\u001b[39mshape\u001b[39m}\u001b[39;00m\u001b[39m and \u001b[39m\u001b[39m{\u001b[39;00my\u001b[39m.\u001b[39mshape\u001b[39m}\u001b[39;00m\u001b[39m\"\u001b[39m)\n\u001b[1;32m    506\u001b[0m \u001b[39mif\u001b[39;00m x\u001b[39m.\u001b[39mndim \u001b[39m>\u001b[39m \u001b[39m2\u001b[39m \u001b[39mor\u001b[39;00m y\u001b[39m.\u001b[39mndim \u001b[39m>\u001b[39m \u001b[39m2\u001b[39m:\n\u001b[1;32m    507\u001b[0m     \u001b[39mraise\u001b[39;00m \u001b[39mValueError\u001b[39;00m(\u001b[39mf\u001b[39m\u001b[39m\"\u001b[39m\u001b[39mx and y can be no greater than 2D, but have \u001b[39m\u001b[39m\"\u001b[39m\n\u001b[1;32m    508\u001b[0m                      \u001b[39mf\u001b[39m\u001b[39m\"\u001b[39m\u001b[39mshapes \u001b[39m\u001b[39m{\u001b[39;00mx\u001b[39m.\u001b[39mshape\u001b[39m}\u001b[39;00m\u001b[39m and \u001b[39m\u001b[39m{\u001b[39;00my\u001b[39m.\u001b[39mshape\u001b[39m}\u001b[39;00m\u001b[39m\"\u001b[39m)\n",
      "\u001b[0;31mValueError\u001b[0m: x and y must have same first dimension, but have shapes (1000, 1) and (2, 1000)"
     ]
    },
    {
     "data": {
      "image/png": "[encoded data removed]",
      "text/plain": [
       "<Figure size 432x288 with 1 Axes>"
      ]
     },
     "metadata": {
      "needs_background": "light"
     },
     "output_type": "display_data"
    }
   ],
   "source": [
    "# import pysr model from pickle file \"pysr_model.pkl\"\n",
    "import pickle\n",
    "with open('models/pysr_model_2.pkl', 'rb') as f:\n",
    "    model_new = pickle.load(f)\n",
    "# calculate the new mod\n",
    "\n",
    "print(model_new.equations_.score)\n",
    "\n",
    "y_pred_all = np.array([model_new.predict(X_big, i) for i in range(len(model_new.equations))])\n",
    "# cut the equations up to the equation with the best score\n",
    "y_pred_cut = y_pred_all[2:6, :]\n",
    "print(y_pred_cut.shape)\n",
    "y_pred_std_cut = np.std(y_pred_cut, axis=0)\n",
    "\n",
    "# plot the new mod\n",
    "#plt.plot(X_big, y_pred_std_cut, label='new mod')\n",
    "plt.plot(X_big, y_pred_cut, label='new mod')\n",
    "\n",
    "max_mod = X_big[np.argmax(y_pred_std_cut)]\n",
    "\n",
    "print('max_mod_cut: ', max_mod)"
   ]
  },
  {
   "cell_type": "code",
   "execution_count": 120,
   "metadata": {},
   "outputs": [
    {
     "name": "stderr",
     "output_type": "stream",
     "text": [
      "/beegfs/desy/user/bornemaf/conda/envs/PySR/lib/python3.10/site-packages/pysr/sr.py:1186: FutureWarning: PySRRegressor.equations is now deprecated. Please use PySRRegressor.equations_ instead.\n",
      "  warnings.warn(\n",
      "/beegfs/desy/user/bornemaf/conda/envs/PySR/lib/python3.10/site-packages/pysr/sr.py:1186: FutureWarning: PySRRegressor.equations is now deprecated. Please use PySRRegressor.equations_ instead.\n",
      "  warnings.warn(\n",
      "/beegfs/desy/user/bornemaf/conda/envs/PySR/lib/python3.10/site-packages/pysr/sr.py:1186: FutureWarning: PySRRegressor.equations is now deprecated. Please use PySRRegressor.equations_ instead.\n",
      "  warnings.warn(\n",
      "/beegfs/desy/user/bornemaf/conda/envs/PySR/lib/python3.10/site-packages/pysr/sr.py:1186: FutureWarning: PySRRegressor.equations is now deprecated. Please use PySRRegressor.equations_ instead.\n",
      "  warnings.warn(\n"
     ]
    },
    {
     "data": {
      "image/png": "[encoded data removed]",
      "text/plain": [
       "<Figure size 1440x360 with 8 Axes>"
      ]
     },
     "metadata": {
      "needs_background": "light"
     },
     "output_type": "display_data"
    }
   ],
   "source": [
    "def plot_all_4_models():\n",
    "    X_new = np.copy(X)\n",
    "    # Load all models\n",
    "    model1 = pickle.load(open('models/pysr_model_10.pkl', 'rb'))\n",
    "    model2 = pickle.load(open('models/pysr_model_11.pkl', 'rb'))\n",
    "    model3 = pickle.load(open('models/pysr_model_12.pkl', 'rb'))\n",
    "    model4 = pickle.load(open('models/pysr_model_13.pkl', 'rb'))\n",
    "    points = [0.0, 2.0, 0.5]\n",
    "    models_equations = [(2,6), (3,6), (2,6), (2,6)]\n",
    "    \n",
    "    # Create a 2x4 grid of subplots\n",
    "    fig, ax = plt.subplots(2, 4, figsize=(20, 5))\n",
    "    \n",
    "    # Loop through each model\n",
    "    for i, model_i in enumerate([model1, model2, model3, model4]):\n",
    "        if i > 0:\n",
    "            X_new = np.vstack((X_new, points[i-1]))\n",
    "        y_new = 5 * np.cos(3.5 * X_new) - 1.3\n",
    "        y_pred_all = np.array([model_i.predict(X_big, i) for i in range(len(model_i.equations))])\n",
    "        y_pred_cut = y_pred_all[models_equations[i][0]:models_equations[i][1], :]\n",
    "        y_pred_std_cut = np.std(y_pred_cut, axis=0)\n",
    "        true_y = 5 * np.cos(3.5 * X_big) - 1.3\n",
    "        \n",
    "        # Plot predictions in the top row\n",
    "        for j in range(y_pred_cut.shape[0]):\n",
    "            ax[0, i].plot(X_big, y_pred_cut[j, :], color='gray', alpha=0.5)\n",
    "        ax[0, i].plot(X_big, true_y, color='red')\n",
    "        ax[0, i].scatter(X_new, y_new, color='black')\n",
    "        ax[0, i].set_title(f'Model {i+1} Predictions')\n",
    "\n",
    "        # Plot standard deviations in the bottom row\n",
    "        ax[1, i].plot(X_big, y_pred_std_cut)\n",
    "        ax[1, i].set_yticks([])\n",
    "        ax[1, i].set_ylabel('')\n",
    "\n",
    "        # Manually create a dummy gray line for the legend\n",
    "        dummy_line = Line2D([0], [0], color='gray', alpha=0.5, label='Committee')\n",
    "        ax[0, i].legend(handles=[dummy_line], loc='upper left')\n",
    "\n",
    "    # Adjust layout to make the plots touch and avoid overlapping ticks\n",
    "    plt.tight_layout()\n",
    "    fig.subplots_adjust(hspace=0, wspace=0.2)\n",
    "\n",
    "    # Save the plot\n",
    "    fig.savefig('MoD_all_vs_best.jpg', dpi=150, bbox_inches='tight', pad_inches=0.1)\n",
    "\n",
    "    plt.show()\n",
    "\n",
    "plot_all_4_models()\n"
   ]
  },
  {
   "cell_type": "code",
   "execution_count": 54,
   "metadata": {},
   "outputs": [
    {
     "name": "stdout",
     "output_type": "stream",
     "text": [
      "0.16.0\n"
     ]
    }
   ],
   "source": [
    "print(pysr.__version__)"
   ]
  },
  {
   "cell_type": "code",
   "execution_count": 1,
   "metadata": {},
   "outputs": [
    {
     "name": "stderr",
     "output_type": "stream",
     "text": [
      "/tmp/ipykernel_64941/1154791122.py:8: FutureWarning: In future versions `DataFrame.to_latex` is expected to utilise the base implementation of `Styler.to_latex` for formatting and rendering. The arguments signature may therefore change. It is recommended instead to use `DataFrame.style.to_latex` which also contains additional functionality.\n",
      "  latex_tabular = df.to_latex(index=False, escape=False)\n"
     ]
    }
   ],
   "source": [
    "import pandas as pd\n",
    "\n",
    "# Read the CSV file into a pandas DataFrame\n",
    "csv_file = '/beegfs/desy/user/bornemaf/data/SyReAL/notebooks/FeynmanEquations.csv'  # Replace with your CSV file's path\n",
    "df = pd.read_csv(csv_file)\n",
    "\n",
    "# Generate LaTeX tabular code\n",
    "latex_tabular = df.to_latex(index=False, escape=False)\n",
    "\n",
    "# save to file\n",
    "with open('plots/FeynmanEquations.tex', 'w') as f:\n",
    "    f.write(latex_tabular)\n",
    "\n"
   ]
  },
  {
   "cell_type": "code",
   "execution_count": 12,
   "metadata": {},
   "outputs": [
    {
     "name": "stdout",
     "output_type": "stream",
     "text": [
      "\\begin{tabular}{|c|c|c|}\n",
      "\\toprule\n",
      "   Filename &                                            Formula & variables \\\\\n",
      "\\midrule\n",
      "   $I.6.2a$ &                      $exp(-theta**2/2)/sqrt(2*pi)$ &       $1$ \\\\\n",
      "    $I.6.2$ &      $exp(-(theta/sigma)**2/2)/(sqrt(2*pi)*sigma)$ &       $2$ \\\\\n",
      "   $I.6.2b$ & $exp(-((theta-theta1)/sigma)**2/2)/(sqrt(2*pi)*... &       $3$ \\\\\n",
      "   $I.8.14$ &                      $sqrt((x2-x1)**2+(y2-y1)**2)$ &       $4$ \\\\\n",
      "   $I.9.18$ &       $G*m1*m2/((x2-x1)**2+(y2-y1)**2+(z2-z1)**2)$ &       $9$ \\\\\n",
      "   $I.10.7$ &                            $m_0/sqrt(1-v**2/c**2)$ &       $3$ \\\\\n",
      "  $I.11.19$ &                                $x1*y1+x2*y2+x3*y3$ &       $6$ \\\\\n",
      "   $I.12.1$ &                                            $mu*Nn$ &       $2$ \\\\\n",
      "   $I.12.2$ &                      $q1*q2*r/(4*pi*epsilon*r**3)$ &       $4$ \\\\\n",
      "   $I.12.4$ &                         $q1*r/(4*pi*epsilon*r**3)$ &       $3$ \\\\\n",
      "   $I.12.5$ &                                            $q2*Ef$ &       $2$ \\\\\n",
      "  $I.12.11$ &                            $q*(Ef+B*v*sin(theta))$ &       $5$ \\\\\n",
      "   $I.13.4$ &                           $1/2*m*(v**2+u**2+w**2)$ &       $4$ \\\\\n",
      "  $I.13.12$ &                              $G*m1*m2*(1/r2-1/r1)$ &       $5$ \\\\\n",
      "   $I.14.3$ &                                            $m*g*z$ &       $3$ \\\\\n",
      "   $I.14.4$ &                                $1/2*k_spring*x**2$ &       $2$ \\\\\n",
      "  $I.15.3x$ &                        $(x-u*t)/sqrt(1-u**2/c**2)$ &       $4$ \\\\\n",
      "  $I.15.3t$ &                   $(t-u*x/c**2)/sqrt(1-u**2/c**2)$ &       $4$ \\\\\n",
      "   $I.15.1$ &                          $m_0*v/sqrt(1-v**2/c**2)$ &       $3$ \\\\\n",
      "   $I.16.6$ &                               $(u+v)/(1+u*v/c**2)$ &       $3$ \\\\\n",
      "   $I.18.4$ &                            $(m1*r1+m2*r2)/(m1+m2)$ &       $4$ \\\\\n",
      "  $I.18.12$ &                                   $r*F*sin(theta)$ &       $3$ \\\\\n",
      "  $I.18.14$ &                                 $m*r*v*sin(theta)$ &       $4$ \\\\\n",
      "   $I.24.6$ &             $1/2*m*(omega**2+omega_0**2)*1/2*x**2$ &       $4$ \\\\\n",
      "  $I.25.13$ &                                              $q/C$ &       $2$ \\\\\n",
      "   $I.26.2$ &                            $arcsin(n*sin(theta2))$ &       $2$ \\\\\n",
      "   $I.27.6$ &                                    $1/(1/d1+n/d2)$ &       $3$ \\\\\n",
      "   $I.29.4$ &                                          $omega/c$ &       $2$ \\\\\n",
      "  $I.29.16$ &     $sqrt(x1**2+x2**2-2*x1*x2*cos(theta1-theta2))$ &       $4$ \\\\\n",
      "   $I.30.3$ &          $Int_0*sin(n*theta/2)**2/sin(theta/2)**2$ &       $3$ \\\\\n",
      "   $I.30.5$ &                              $arcsin(lambd/(n*d))$ &       $3$ \\\\\n",
      "   $I.32.5$ &                    $q**2*a**2/(6*pi*epsilon*c**3)$ &       $4$ \\\\\n",
      "  $I.32.17$ & $(1/2*epsilon*c*Ef**2)*(8*pi*r**2/3)*(omega**4/... &       $6$ \\\\\n",
      "   $I.34.8$ &                                          $q*v*B/p$ &       $4$ \\\\\n",
      "   $I.34.1$ &                                  $omega_0/(1-v/c)$ &       $3$ \\\\\n",
      "  $I.34.14$ &                $(1+v/c)/sqrt(1-v**2/c**2)*omega_0$ &       $3$ \\\\\n",
      "  $I.34.27$ &                                 $(h/(2*pi))*omega$ &       $2$ \\\\\n",
      "   $I.37.4$ &                   $I1+I2+2*sqrt(I1*I2)*cos(delta)$ &       $3$ \\\\\n",
      "  $I.38.12$ &              $4*pi*epsilon*(h/(2*pi))**2/(m*q**2)$ &       $4$ \\\\\n",
      "   $I.39.1$ &                                         $3/2*pr*V$ &       $2$ \\\\\n",
      "  $I.39.11$ &                                 $1/(gamma-1)*pr*V$ &       $3$ \\\\\n",
      "  $I.39.22$ &                                         $n*kb*T/V$ &       $4$ \\\\\n",
      "   $I.40.1$ &                           $n_0*exp(-m*g*x/(kb*T))$ &       $6$ \\\\\n",
      "  $I.41.16$ & $h/(2*pi)*omega**3/(pi**2*c**2*(exp((h/(2*pi))*... &       $5$ \\\\\n",
      "  $I.43.16$ &                                $mu_drift*q*Volt/d$ &       $4$ \\\\\n",
      "  $I.43.31$ &                                         $mob*kb*T$ &       $3$ \\\\\n",
      "  $I.43.43$ &                               $1/(gamma-1)*kb*v/A$ &       $4$ \\\\\n",
      "   $I.44.4$ &                                 $n*kb*T*ln(V2/V1)$ &       $5$ \\\\\n",
      "  $I.47.23$ &                               $sqrt(gamma*pr/rho)$ &       $3$ \\\\\n",
      "   $I.48.2$ &                         $m*c**2/sqrt(1-v**2/c**2)$ &       $3$ \\\\\n",
      "  $I.50.26$ &          $x1*(cos(omega*t)+alpha*cos(omega*t)**2)$ &       $4$ \\\\\n",
      "  $II.2.42$ &                                $kappa*(T2-T1)*A/d$ &       $5$ \\\\\n",
      "  $II.3.24$ &                                  $Pwr/(4*pi*r**2)$ &       $2$ \\\\\n",
      "  $II.4.23$ &                               $q/(4*pi*epsilon*r)$ &       $3$ \\\\\n",
      "  $II.6.11$ &             $1/(4*pi*epsilon)*p_d*cos(theta)/r**2$ &       $4$ \\\\\n",
      " $II.6.15a$ &      $p_d/(4*pi*epsilon)*3*z/r**5*sqrt(x**2+y**2)$ &       $6$ \\\\\n",
      " $II.6.15b$ &  $p_d/(4*pi*epsilon)*3*cos(theta)*sin(theta)/r**3$ &       $4$ \\\\\n",
      "   $II.8.7$ &                        $3/5*q**2/(4*pi*epsilon*d)$ &       $3$ \\\\\n",
      "  $II.8.31$ &                                  $epsilon*Ef**2/2$ &       $2$ \\\\\n",
      "  $II.10.9$ &                      $sigma_den/epsilon*1/(1+chi)$ &       $3$ \\\\\n",
      "  $II.11.3$ &                   $q*Ef/(m*(omega_0**2-omega**2))$ &       $5$ \\\\\n",
      " $II.11.17$ &                 $n_0*(1+p_d*Ef*cos(theta)/(kb*T))$ &       $6$ \\\\\n",
      " $II.11.20$ &                         $n_rho*p_d**2*Ef/(3*kb*T)$ &       $5$ \\\\\n",
      " $II.11.27$ &               $n*alpha/(1-(n*alpha/3))*epsilon*Ef$ &       $4$ \\\\\n",
      " $II.11.28$ &                        $1+n*alpha/(1-(n*alpha/3))$ &       $2$ \\\\\n",
      " $II.13.17$ &                      $1/(4*pi*epsilon*c**2)*2*I/r$ &       $4$ \\\\\n",
      " $II.13.23$ &                        $rho_c_0/sqrt(1-v**2/c**2)$ &       $3$ \\\\\n",
      " $II.13.34$ &                      $rho_c_0*v/sqrt(1-v**2/c**2)$ &       $3$ \\\\\n",
      "  $II.15.4$ &                                $-mom*B*cos(theta)$ &       $3$ \\\\\n",
      "  $II.15.5$ &                               $-p_d*Ef*cos(theta)$ &       $3$ \\\\\n",
      " $II.21.32$ &                       $q/(4*pi*epsilon*r*(1-v/c))$ &       $5$ \\\\\n",
      " $II.24.17$ &                   $sqrt(omega**2/c**2-pi**2/d**2)$ &       $3$ \\\\\n",
      " $II.27.16$ &                                  $epsilon*c*Ef**2$ &       $3$ \\\\\n",
      " $II.27.18$ &                                    $epsilon*Ef**2$ &       $2$ \\\\\n",
      " $II.34.2a$ &                                     $q*v/(2*pi*r)$ &       $3$ \\\\\n",
      "  $II.34.2$ &                                          $q*v*r/2$ &       $3$ \\\\\n",
      " $II.34.11$ &                                     $g_*q*B/(2*m)$ &       $4$ \\\\\n",
      "$II.34.29a$ &                                     $q*h/(4*pi*m)$ &       $3$ \\\\\n",
      "$II.34.29b$ &                           $g_*mom*B*Jz/(h/(2*pi))$ &       $5$ \\\\\n",
      " $II.35.18$ &       $n_0/(exp(mom*B/(kb*T))+exp(-mom*B/(kb*T)))$ &       $5$ \\\\\n",
      " $II.35.21$ &                     $n_rho*mom*tanh(mom*B/(kb*T))$ &       $5$ \\\\\n",
      " $II.36.38$ &   $mom*H/(kb*T)+(mom*alpha)/(epsilon*c**2*kb*T)*M$ &       $8$ \\\\\n",
      "  $II.37.1$ &                                    $mom*(1+chi)*B$ &       $3$ \\\\\n",
      "  $II.38.3$ &                                          $Y*A*x/d$ &       $4$ \\\\\n",
      " $II.38.14$ &                                  $Y/(2*(1+sigma))$ &       $2$ \\\\\n",
      " $III.4.32$ &               $1/(exp((h/(2*pi))*omega/(kb*T))-1)$ &       $4$ \\\\\n",
      " $III.4.33$ & $(h/(2*pi))*omega/(exp((h/(2*pi))*omega/(kb*T))... &       $4$ \\\\\n",
      " $III.7.38$ &                               $2*mom*B/(h/(2*pi))$ &       $3$ \\\\\n",
      " $III.8.54$ &                         $sin(E_n*t/(h/(2*pi)))**2$ &       $3$ \\\\\n",
      " $III.9.52$ & $(p_d*Ef*t/(h/(2*pi)))*sin((omega-omega_0)*t/2)... &       $6$ \\\\\n",
      "$III.10.19$ &                      $mom*sqrt(Bx**2+By**2+Bz**2)$ &       $4$ \\\\\n",
      "$III.12.43$ &                                     $n*(h/(2*pi))$ &       $2$ \\\\\n",
      "$III.13.18$ &                          $2*E_n*d**2*k/(h/(2*pi))$ &       $4$ \\\\\n",
      "$III.14.14$ &                       $I_0*(exp(q*Volt/(kb*T))-1)$ &       $5$ \\\\\n",
      "$III.15.12$ &                                 $2*U*(1-cos(k*d))$ &       $3$ \\\\\n",
      "$III.15.14$ &                       $(h/(2*pi))**2/(2*E_n*d**2)$ &       $3$ \\\\\n",
      "$III.15.27$ &                                 $2*pi*alpha/(n*d)$ &       $3$ \\\\\n",
      "$III.17.37$ &                        $beta*(1+alpha*cos(theta))$ &       $3$ \\\\\n",
      "$III.19.51$ & $-m*q**4/(2*(4*pi*epsilon)**2*(h/(2*pi))**2)*(1... &       $5$ \\\\\n",
      "$III.21.20$ &                               $-rho_c_0*q*A_vec/m$ &       $4$ \\\\\n",
      "\\bottomrule\n",
      "\\end{tabular}\n",
      "\n"
     ]
    },
    {
     "name": "stderr",
     "output_type": "stream",
     "text": [
      "/tmp/ipykernel_64941/2645383345.py:22: FutureWarning: In future versions `DataFrame.to_latex` is expected to utilise the base implementation of `Styler.to_latex` for formatting and rendering. The arguments signature may therefore change. It is recommended instead to use `DataFrame.style.to_latex` which also contains additional functionality.\n",
      "  latex_tabular = df.to_latex(index=False, escape=False, column_format='|' + 'c|' * len(df.columns))\n"
     ]
    }
   ],
   "source": [
    "import pandas as pd\n",
    "from sympy import latex, sympify\n",
    "\n",
    "\n",
    "#csv_file = 'data.csv'  # Replace with your CSV file's path\n",
    "\n",
    "excluded_columns = ['datapoints', 'Number', 'Output', 'v1_name', 'v1_low', 'v1_high', 'v2_name', 'v2_low', 'v2_high', 'v3_name', 'v3_low', 'v3_high', 'v4_name', 'v4_low', 'v4_high', 'v5_name', 'v5_low', 'v5_high', 'v6_name', 'v6_low', 'v6_high', 'v7_name', 'v7_low', 'v7_high', 'v8_name', 'v8_low', 'v8_high', 'v9_name', 'v9_low', 'v9_high', 'v10_name', 'v10_low', 'v10_high']\n",
    "df = pd.read_csv(csv_file)\n",
    "\n",
    "# rename '#variables' column to 'variables'\n",
    "df = df.rename(columns={'# variables': 'variables'})\n",
    "\n",
    "# Remove excluded columns\n",
    "df = df.drop(columns=excluded_columns)\n",
    "\n",
    "# add dollar signs to each column\n",
    "for col in df.columns:\n",
    "    df[col] = df[col].apply(lambda x: '$' + str(x) + '$')\n",
    "\n",
    "\n",
    "# Generate LaTeX tabular code\n",
    "latex_tabular = df.to_latex(index=False, escape=False, column_format='|' + 'c|' * len(df.columns))\n",
    "\n",
    "# Print the LaTeX tabular code\n",
    "print(latex_tabular)\n",
    "\n",
    "# Write the LaTeX tabular code to a file\n",
    "\n",
    "# save to file\n",
    "with open('plots/FeynmanEquations1.tex', 'w') as f:\n",
    "    f.write(latex_tabular)\n",
    "\n"
   ]
  },
  {
   "cell_type": "code",
   "execution_count": 4,
   "metadata": {},
   "outputs": [],
   "source": [
    "import pandas as pd\n",
    "\n",
    "# Read the CSV file into a pandas DataFrame\n",
    "#csv_file = 'data.csv'  # Replace with your CSV file's path\n",
    "df = pd.read_csv(csv_file)\n",
    "\n",
    "# Identify the column with the problematic equation\n",
    "error_equation_column = 'Formula'  # Replace with the column name containing the equation causing the error\n",
    "\n",
    "# Print the equations causing the error\n",
    "error_equations = df[df[error_equation_column].apply(lambda eq: isinstance(eq, str) and 'Symbol' in eq)]\n",
    "for idx, eq in error_equations.iterrows():\n",
    "    print(f\"Row {idx}: {eq[error_equation_column]}\")\n"
   ]
  },
  {
   "cell_type": "code",
   "execution_count": 14,
   "metadata": {},
   "outputs": [],
   "source": [
    "#Read FeynmanEquations.tex file and replace all '**' with '^'\n",
    "with open('plots/FeynmanEquations.tex', 'r') as file :\n",
    "    filedata = file.read()\n",
    "filedata = filedata.replace('**', '^')\n",
    "# Write the file out again\n",
    "with open('plots/FeynmanEquations2.tex', 'w') as file: \n",
    "    file.write(filedata)"
   ]
  },
  {
   "cell_type": "code",
   "execution_count": 28,
   "metadata": {},
   "outputs": [
    {
     "name": "stdout",
     "output_type": "stream",
     "text": [
      "42\n",
      "\\begin{tabular}{ll}\n",
      "\\toprule\n",
      " Filename &  Found \\\\\n",
      "\\midrule\n",
      "III.17.37 &  False \\\\\n",
      " II.13.17 &  False \\\\\n",
      "  I.39.11 &  False \\\\\n",
      "  I.47.23 &  False \\\\\n",
      "  I.43.43 &  False \\\\\n",
      " III.4.32 &  False \\\\\n",
      " II.11.17 &   True \\\\\n",
      "  II.8.31 &  False \\\\\n",
      " II.13.34 &  False \\\\\n",
      "   I.24.6 &   True \\\\\n",
      "  II.10.9 &  False \\\\\n",
      "  I.41.16 &  False \\\\\n",
      "III.21.20 &  False \\\\\n",
      " II.11.20 &   True \\\\\n",
      "  II.37.1 &  False \\\\\n",
      "III.13.18 &   True \\\\\n",
      "   I.13.4 &   True \\\\\n",
      "  II.3.24 &  False \\\\\n",
      "   I.14.4 &  False \\\\\n",
      "  I.25.13 &  False \\\\\n",
      "II.34.29a &  False \\\\\n",
      "   I.34.8 &  False \\\\\n",
      "   I.12.5 &  False \\\\\n",
      "   I.6.2b &   True \\\\\n",
      "   I.12.1 &  False \\\\\n",
      "   I.30.3 &   True \\\\\n",
      "  II.11.3 &   True \\\\\n",
      "  II.15.5 &  False \\\\\n",
      "  I.34.14 &   True \\\\\n",
      "  I.11.19 &   True \\\\\n",
      "  I.38.12 &   True \\\\\n",
      " III.7.38 &   True \\\\\n",
      "   I.34.1 &  False \\\\\n",
      "III.10.19 &   True \\\\\n",
      "   II.8.7 &  False \\\\\n",
      " II.6.15a &  False \\\\\n",
      "    I.6.2 &   True \\\\\n",
      "   I.39.1 &  False \\\\\n",
      "   I.27.6 &   True \\\\\n",
      "   I.12.2 &   True \\\\\n",
      "   I.48.2 &  False \\\\\n",
      "III.15.12 &   True \\\\\n",
      "III.15.27 &  False \\\\\n",
      "   I.44.4 &  False \\\\\n",
      " II.34.2a &   True \\\\\n",
      "   I.40.1 &   True \\\\\n",
      " II.24.17 &  False \\\\\n",
      "  II.6.11 &   True \\\\\n",
      "  I.12.11 &   True \\\\\n",
      "   I.29.4 &  False \\\\\n",
      " II.27.18 &  False \\\\\n",
      "  I.18.12 &  False \\\\\n",
      "   I.26.2 &  False \\\\\n",
      " II.13.23 &  False \\\\\n",
      "III.19.51 &   True \\\\\n",
      "   I.18.4 &   True \\\\\n",
      "  II.34.2 &  False \\\\\n",
      "   I.6.2a &   True \\\\\n",
      "  I.43.31 &  False \\\\\n",
      " II.11.27 &  False \\\\\n",
      "  I.32.17 &  False \\\\\n",
      "III.12.43 &  False \\\\\n",
      " II.34.11 &   True \\\\\n",
      " II.38.14 &  False \\\\\n",
      " II.6.15b &   True \\\\\n",
      "   I.8.14 &   True \\\\\n",
      " II.11.28 &   True \\\\\n",
      "II.34.29b &   True \\\\\n",
      "  I.34.27 &  False \\\\\n",
      "   I.10.7 &   True \\\\\n",
      "  I.43.16 &  False \\\\\n",
      "  I.29.16 &  False \\\\\n",
      "  I.15.3t &  False \\\\\n",
      "   I.15.1 &  False \\\\\n",
      "   I.32.5 &   True \\\\\n",
      "   I.16.6 &   True \\\\\n",
      "   I.14.3 &  False \\\\\n",
      " II.35.18 &   True \\\\\n",
      "  I.13.12 &   True \\\\\n",
      " II.36.38 &   True \\\\\n",
      " III.8.54 &  False \\\\\n",
      "   I.30.5 &  False \\\\\n",
      "   I.37.4 &   True \\\\\n",
      "  II.2.42 &   True \\\\\n",
      "  I.18.14 &  False \\\\\n",
      "  II.4.23 &  False \\\\\n",
      " II.21.32 &   True \\\\\n",
      "III.14.14 &   True \\\\\n",
      "  II.38.3 &  False \\\\\n",
      " II.35.21 &   True \\\\\n",
      "III.15.14 &   True \\\\\n",
      " II.27.16 &  False \\\\\n",
      "  I.39.22 &  False \\\\\n",
      " III.4.33 &  False \\\\\n",
      "  I.50.26 &   True \\\\\n",
      "   I.9.18 &  False \\\\\n",
      " III.9.52 &  False \\\\\n",
      "   I.12.4 &  False \\\\\n",
      "  I.15.3x &  False \\\\\n",
      "  II.15.4 &  False \\\\\n",
      "\\bottomrule\n",
      "\\end{tabular}\n",
      "\n"
     ]
    },
    {
     "name": "stderr",
     "output_type": "stream",
     "text": [
      "/tmp/ipykernel_64941/2317470436.py:39: FutureWarning: In future versions `DataFrame.to_latex` is expected to utilise the base implementation of `Styler.to_latex` for formatting and rendering. The arguments signature may therefore change. It is recommended instead to use `DataFrame.style.to_latex` which also contains additional functionality.\n",
      "  print(df.to_latex(index=False))\n",
      "/tmp/ipykernel_64941/2317470436.py:43: FutureWarning: In future versions `DataFrame.to_latex` is expected to utilise the base implementation of `Styler.to_latex` for formatting and rendering. The arguments signature may therefore change. It is recommended instead to use `DataFrame.style.to_latex` which also contains additional functionality.\n",
      "  f.write(df.to_latex(index=False))\n"
     ]
    }
   ],
   "source": [
    "path = \"/beegfs/desy/user/bornemaf/data/SyReAL/syreal/jobs/jobOrchestration/feynman_info.json\"\n",
    "\n",
    "# from this, export latex table with the index as the first column and the 'found' row as the second column\n",
    "\n",
    "found_i = ['II.11.17', 'I.24.6', 'II.11.20', 'III.13.18', 'I.13.4', 'I.6.2b',\n",
    "       'I.30.3', 'II.11.3', 'I.34.14', 'I.11.19', 'I.38.12', 'III.7.38',\n",
    "       'III.10.19', 'I.6.2', 'I.27.6', 'I.12.2', 'III.15.12', 'II.34.2a',\n",
    "       'I.40.1', 'II.6.11', 'I.12.11', 'III.19.51', 'I.18.4', 'I.6.2a',\n",
    "       'II.34.11', 'II.6.15b', 'I.8.14', 'II.11.28', 'II.34.29b', 'I.10.7',\n",
    "       'I.32.5', 'I.16.6', 'II.35.18', 'I.13.12', 'II.36.38', 'I.37.4',\n",
    "       'II.2.42', 'II.21.32', 'III.14.14', 'II.35.21', 'III.15.14', 'I.50.26']\n",
    "\n",
    "\n",
    "import json\n",
    "import pandas as pd\n",
    "\n",
    "with open(path) as f:\n",
    "    data = json.load(f)\n",
    "\n",
    "keys = list(data.keys())\n",
    "\n",
    "# for every key, check if the key is in found_i, if so append true to found, else false\n",
    "\n",
    "found = []\n",
    "for key in keys:\n",
    "    if key in found_i:\n",
    "        found.append(True)\n",
    "    else:\n",
    "        found.append(False)\n",
    "\n",
    "# the amount of found solutions\n",
    "print(sum(found))\n",
    "\n",
    "\n",
    "# make a dataframe\n",
    "df = pd.DataFrame({'Filename': keys, 'Found': found})\n",
    "\n",
    "# export to latex\n",
    "print(df.to_latex(index=False))\n",
    "\n",
    "# export to tex\n",
    "with open(\"plots/found.tex\", \"w\") as f:\n",
    "    f.write(df.to_latex(index=False))\n"
   ]
  },
  {
   "cell_type": "code",
   "execution_count": null,
   "metadata": {},
   "outputs": [],
   "source": []
  }
 ],
 "metadata": {
  "kernelspec": {
   "display_name": "MyPySR_3.10",
   "language": "python",
   "name": "mypysr_3.10"
  },
  "language_info": {
   "codemirror_mode": {
    "name": "ipython",
    "version": 3
   },
   "file_extension": ".py",
   "mimetype": "text/x-python",
   "name": "python",
   "nbconvert_exporter": "python",
   "pygments_lexer": "ipython3",
   "version": "3.10.6"
  },
  "orig_nbformat": 4
 },
 "nbformat": 4,
 "nbformat_minor": 2
}
